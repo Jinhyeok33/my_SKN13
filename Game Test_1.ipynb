{
 "cells": [
  {
   "cell_type": "markdown",
   "id": "da6242ac-5a18-4f0c-8050-260f1fe6809c",
   "metadata": {},
   "source": [
    "### **게임 설명** ###\n",
    "- 전사, 법사 등의 직업을 골라 서로 겨루는 게임\n",
    "- 2명 이상의 플레이어가 참여가능하며, 최후의 1인이 살아남는다."
   ]
  },
  {
   "cell_type": "code",
   "execution_count": 252,
   "id": "1a3f86aa-3ca5-40f5-9c2e-ca814abb21f1",
   "metadata": {},
   "outputs": [],
   "source": [
    "# 기본 캐릭터 클래스\n",
    "class Character: # 기본 체력 80 / 공격력 10 / 방어력 0\n",
    "    def __init__(self, name:str, health:int, strength:int, armor:int):\n",
    "        self.name = name\n",
    "        self.health = health\n",
    "        self.strength = strength\n",
    "        self.armor = armor\n",
    "    def attack(self):\n",
    "        print(f'{self.name}이(가) 공격합니다 !')\n",
    "    def attacked(self, enemy):\n",
    "        self.health -= enemy.strength\n",
    "        if self.health <= 0:\n",
    "            print(f'{self.name}님 이(가) 사망하였습니다.\\n')\n",
    "            death = True\n",
    "            return death\n",
    "        else :\n",
    "            print(f'{self.name}이(가) 공격받았습니다 !')\n",
    "            death = False\n",
    "            return death\n",
    "    def health_check(self):\n",
    "        return self.health"
   ]
  },
  {
   "cell_type": "code",
   "execution_count": 253,
   "id": "48647eb5-f984-4ea9-9afa-aa297c777b5c",
   "metadata": {},
   "outputs": [],
   "source": [
    "# 전사 직업 클래스 만들기\n",
    "class Warrior(Character): # 기본 체력 40 / 공격력 10 / 방어력 3\n",
    "    def __init__(self, name:str, job:str, health:int, strength:int, armor:int):\n",
    "        super().__init__(name, 40, 10, 3)\n",
    "        self.job = job\n",
    "    def attack(self):\n",
    "        super().attack()\n",
    "    def attacked(self, enemy):\n",
    "        death = super().attacked(enemy) # 상위 클래스 메소드의 리턴값을 다시 리턴 \n",
    "        if death is False:\n",
    "            self.health += 3\n",
    "        return death\n",
    "    def health_check(self):\n",
    "        return super().health_check() # 상위 클래스 메소드의 리턴값을 다시 리턴 "
   ]
  },
  {
   "cell_type": "code",
   "execution_count": 254,
   "id": "02147627-e2ed-44cd-a047-75900e52a0c1",
   "metadata": {},
   "outputs": [],
   "source": [
    "# 법사 직업 클래스 만들기\n",
    "class Mage(Character): # 기본 체력 25 / 공격력 18 / 방어력 0\n",
    "    def __init__(self, name:str, job:str, health:int, strength:int, armor:int):\n",
    "        super().__init__(name, 25, 18, 0)\n",
    "        self.job = job\n",
    "    def attack(self):\n",
    "        super().attack()\n",
    "    def attacked(self, enemy):\n",
    "        death = super().attacked(enemy)\n",
    "        return death\n",
    "    def health_check(self):\n",
    "        return super().health_check()"
   ]
  },
  {
   "cell_type": "code",
   "execution_count": 255,
   "id": "cae2de5b-e888-4d02-8130-9146c4919639",
   "metadata": {},
   "outputs": [
    {
     "data": {
      "text/plain": [
       "\"\\n# Test\\na = Warrior('가나', '전사', 80, 10, 3)\\nprint(a.name)\\n# a.attack()\\nb = Mage('나다', '법사', 60, 18, 0)\\n# # print(b.name, type(b))\\n# b.attack()\\n# a.attacked(b)\\na_health = a.health_check()\\nprint(a_health)\\n# b.health_check()\\n\""
      ]
     },
     "execution_count": 255,
     "metadata": {},
     "output_type": "execute_result"
    }
   ],
   "source": [
    "'''\n",
    "# Test\n",
    "a = Warrior('가나', '전사', 80, 10, 3)\n",
    "print(a.name)\n",
    "# a.attack()\n",
    "b = Mage('나다', '법사', 60, 18, 0)\n",
    "# # print(b.name, type(b))\n",
    "# b.attack()\n",
    "# a.attacked(b)\n",
    "a_health = a.health_check()\n",
    "print(a_health)\n",
    "# b.health_check()\n",
    "'''"
   ]
  },
  {
   "cell_type": "code",
   "execution_count": 256,
   "id": "1941333e-56a1-4e52-8976-3da9d0a76905",
   "metadata": {},
   "outputs": [
    {
     "name": "stdin",
     "output_type": "stream",
     "text": [
      "몇 명의 캐릭터를 생성하시겠습니까? 2\n"
     ]
    },
    {
     "name": "stdout",
     "output_type": "stream",
     "text": [
      "직업 : 전사 / 법사\n"
     ]
    },
    {
     "name": "stdin",
     "output_type": "stream",
     "text": [
      "1번 째 캐릭터의 직업을 선택해주십시오 법사\n"
     ]
    },
    {
     "name": "stdout",
     "output_type": "stream",
     "text": [
      "선택하신 직업은 법사 입니다\n"
     ]
    },
    {
     "name": "stdin",
     "output_type": "stream",
     "text": [
      "1번 째 캐릭터 명을 입력해주십시오 엄마\n",
      "2번 째 캐릭터의 직업을 선택해주십시오 전사\n"
     ]
    },
    {
     "name": "stdout",
     "output_type": "stream",
     "text": [
      "선택하신 직업은 전사 입니다\n"
     ]
    },
    {
     "name": "stdin",
     "output_type": "stream",
     "text": [
      "2번 째 캐릭터 명을 입력해주십시오 나\n"
     ]
    }
   ],
   "source": [
    "# 빈 캐릭터 리스트 만들어 놓기\n",
    "character_list = []\n",
    "character_name_list = []\n",
    "\n",
    "# 캐릭터 직업 고르기\n",
    "character_num = int(input('몇 명의 캐릭터를 생성하시겠습니까?'))\n",
    "print('직업 : 전사 / 법사')\n",
    "for i in range(character_num):\n",
    "    while True:\n",
    "        # if input('캐릭터를 생성하시겠습니까? Y/N') == 'Y':\n",
    "            while True:\n",
    "                # print('직업 : 전사 / 법사')\n",
    "                job = input(f'{i+1}번 째 캐릭터의 직업을 선택해주십시오')\n",
    "                if job == '전사':\n",
    "                    break\n",
    "                elif job == '법사':\n",
    "                    break\n",
    "                else :\n",
    "                    print('다시 입력해주십시오')\n",
    "                    continue\n",
    "            break\n",
    "        # else :\n",
    "        #     print('다시 입력해주십시오')\n",
    "        #     continue\n",
    "    print(f'선택하신 직업은 {job} 입니다')\n",
    "    \n",
    "# 캐릭터명 짓기\n",
    "    name = input(f'{i+1}번 째 캐릭터 명을 입력해주십시오')\n",
    "    if job == '전사':\n",
    "        character = Warrior(name, job, 40, 10, 3)\n",
    "    elif job == '법사':\n",
    "        character = Mage(name, job, 25, 18, 0)\n",
    "    character_list.append(character)\n",
    "    character_name_list.append(character.name)\n",
    "    # print(character_list)"
   ]
  },
  {
   "cell_type": "code",
   "execution_count": 257,
   "id": "e9c0e566-e287-4e69-94cf-e0aecf1671ca",
   "metadata": {
    "scrolled": true
   },
   "outputs": [
    {
     "name": "stdout",
     "output_type": "stream",
     "text": [
      "1번째 턴입니다.\n",
      "나님의 차례로 선택되었습니다.\n",
      "행동 종류를 골라주십시오.\n"
     ]
    },
    {
     "name": "stdin",
     "output_type": "stream",
     "text": [
      "현재 가능한 행동은 \"공격\"이 있습니다. 공격\n",
      "공격 대상을 골라주십시오.\n",
      "현재 생존자는 2명으로, ['엄마', '나']가 있습니다. 엄마\n"
     ]
    },
    {
     "name": "stdout",
     "output_type": "stream",
     "text": [
      "나이(가) 공격합니다 !\n",
      "엄마이(가) 공격받았습니다 !\n",
      "엄마의 체력이 15 남았습니다.\n",
      "\n",
      "2번째 턴입니다.\n",
      "나님의 차례로 선택되었습니다.\n",
      "행동 종류를 골라주십시오.\n"
     ]
    },
    {
     "name": "stdin",
     "output_type": "stream",
     "text": [
      "현재 가능한 행동은 \"공격\"이 있습니다. 공격\n",
      "공격 대상을 골라주십시오.\n",
      "현재 생존자는 2명으로, ['엄마', '나']가 있습니다. 엄마\n"
     ]
    },
    {
     "name": "stdout",
     "output_type": "stream",
     "text": [
      "나이(가) 공격합니다 !\n",
      "엄마이(가) 공격받았습니다 !\n",
      "엄마의 체력이 5 남았습니다.\n",
      "\n",
      "3번째 턴입니다.\n",
      "엄마님의 차례로 선택되었습니다.\n",
      "행동 종류를 골라주십시오.\n"
     ]
    },
    {
     "name": "stdin",
     "output_type": "stream",
     "text": [
      "현재 가능한 행동은 \"공격\"이 있습니다. 공격\n",
      "공격 대상을 골라주십시오.\n",
      "현재 생존자는 2명으로, ['엄마', '나']가 있습니다. 나\n"
     ]
    },
    {
     "name": "stdout",
     "output_type": "stream",
     "text": [
      "엄마이(가) 공격합니다 !\n",
      "나이(가) 공격받았습니다 !\n",
      "나의 체력이 25 남았습니다.\n",
      "\n",
      "4번째 턴입니다.\n",
      "엄마님의 차례로 선택되었습니다.\n",
      "행동 종류를 골라주십시오.\n"
     ]
    },
    {
     "name": "stdin",
     "output_type": "stream",
     "text": [
      "현재 가능한 행동은 \"공격\"이 있습니다. 공격\n",
      "공격 대상을 골라주십시오.\n",
      "현재 생존자는 2명으로, ['엄마', '나']가 있습니다. 나\n"
     ]
    },
    {
     "name": "stdout",
     "output_type": "stream",
     "text": [
      "엄마이(가) 공격합니다 !\n",
      "나이(가) 공격받았습니다 !\n",
      "나의 체력이 10 남았습니다.\n",
      "\n",
      "5번째 턴입니다.\n",
      "나님의 차례로 선택되었습니다.\n",
      "행동 종류를 골라주십시오.\n"
     ]
    },
    {
     "name": "stdin",
     "output_type": "stream",
     "text": [
      "현재 가능한 행동은 \"공격\"이 있습니다. 공격\n",
      "공격 대상을 골라주십시오.\n",
      "현재 생존자는 2명으로, ['엄마', '나']가 있습니다. 엄마\n"
     ]
    },
    {
     "name": "stdout",
     "output_type": "stream",
     "text": [
      "나이(가) 공격합니다 !\n",
      "엄마님 이(가) 사망하였습니다.\n",
      "\n",
      "승자는 나 님입니다 !!\n"
     ]
    }
   ],
   "source": [
    "# 게임 시작\n",
    "import random\n",
    "death = [False for i in range(character_num)] # 모든 캐릭터 생명 주기\n",
    "last_player = character_num # 남아있는 플레이어 수\n",
    "i = 0\n",
    "while True: # 마지막 한 명이 살아남을 때까지 무한 반복\n",
    "    i += 1 # 첫 번째 턴\n",
    "    \n",
    "    print(f'{i}번째 턴입니다.')\n",
    "    player_index = random.randint(0, last_player-1) # 랜덤으로 공격할 플레이어 선정    \n",
    "\n",
    "    print(f'{character_list[player_index].name}님의 차례로 선택되었습니다.\\n행동 종류를 골라주십시오.')\n",
    "    if character_list[player_index].job == '전사':\n",
    "        while True:\n",
    "            act = input('현재 가능한 행동은 \"공격\"이 있습니다.')\n",
    "            if act == '공격':\n",
    "                while True:\n",
    "                    enemy_name = input(f'공격 대상을 골라주십시오.\\n현재 생존자는 {last_player}명으로, {character_name_list}가 있습니다.')\n",
    "                    if enemy_name == character_list[player_index].name:\n",
    "                        print('자기 자신을 선택할 수 없습니다.')\n",
    "                        continue\n",
    "                    elif character_name_list.count(enemy_name) == 0:\n",
    "                        print('잘못된 대상입니다.')\n",
    "                        continue\n",
    "                    else:\n",
    "                        enemy_index = character_name_list.index(enemy_name)\n",
    "                        character_list[player_index].attack()\n",
    "                        death[enemy_index] = character_list[enemy_index].attacked(character_list[player_index])\n",
    "                        if death[enemy_index] == False:\n",
    "                            enemy_health = character_list[enemy_index].health_check()\n",
    "                            print(f'{character_list[enemy_index].name}의 체력이 {enemy_health} 남았습니다.\\n')\n",
    "                        elif death[enemy_index] == True:\n",
    "                            last_player -= 1\n",
    "                            character_name_list.remove(enemy_name)\n",
    "                            character_list.remove(character_list[enemy_index])\n",
    "                        break\n",
    "                break\n",
    "            else: \n",
    "                print('잘못된 행동입니다.')\n",
    "                continue\n",
    "\n",
    "    \n",
    "    elif character_list[player_index].job == '법사':\n",
    "        while True:\n",
    "            act = input('현재 가능한 행동은 \"공격\"이 있습니다.')\n",
    "            if act == '공격':\n",
    "                while True:\n",
    "                    enemy_name = input(f'공격 대상을 골라주십시오.\\n현재 생존자는 {last_player}명으로, {character_name_list}가 있습니다.')\n",
    "                    if enemy_name == character_list[player_index].name:\n",
    "                        print('자기 자신을 선택할 수 없습니다.')\n",
    "                        continue\n",
    "                    elif character_name_list.count(enemy_name) == 0:\n",
    "                        print('잘못된 대상입니다.')\n",
    "                        continue\n",
    "                    else:\n",
    "                        enemy_index = character_name_list.index(enemy_name)\n",
    "                        character_list[player_index].attack()\n",
    "                        death[enemy_index] = character_list[enemy_index].attacked(character_list[player_index])\n",
    "                        if death[enemy_index] == False:\n",
    "                            enemy_health = character_list[enemy_index].health_check()\n",
    "                            print(f'{character_list[enemy_index].name}의 체력이 {enemy_health} 남았습니다.\\n')\n",
    "                        elif death[enemy_index] == True:\n",
    "                            last_player -= 1\n",
    "                            character_name_list.remove(enemy_name)\n",
    "                            character_list.remove(character_list[enemy_index])\n",
    "                        break\n",
    "                break\n",
    "            else: \n",
    "                print('잘못된 행동입니다.')\n",
    "                continue\n",
    "                \n",
    "    if last_player <= 1:\n",
    "        print(f'승자는 {character_name_list[0]} 님입니다 !!')\n",
    "        break\n",
    "        \n",
    "        "
   ]
  },
  {
   "cell_type": "code",
   "execution_count": null,
   "id": "6726434f-a49e-4c06-b322-6aa24d1d792f",
   "metadata": {},
   "outputs": [],
   "source": []
  }
 ],
 "metadata": {
  "kernelspec": {
   "display_name": "Python 3 (ipykernel)",
   "language": "python",
   "name": "python3"
  },
  "language_info": {
   "codemirror_mode": {
    "name": "ipython",
    "version": 3
   },
   "file_extension": ".py",
   "mimetype": "text/x-python",
   "name": "python",
   "nbconvert_exporter": "python",
   "pygments_lexer": "ipython3",
   "version": "3.12.7"
  }
 },
 "nbformat": 4,
 "nbformat_minor": 5
}
