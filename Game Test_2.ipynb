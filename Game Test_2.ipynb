{
 "cells": [
  {
   "cell_type": "markdown",
   "id": "8f8807e2-84b5-4c6e-8669-3ed75fc2cb12",
   "metadata": {},
   "source": [
    "### **게임설명** ###\n",
    "- 캐릭터 레벨에 따라 소환되는 소환수를 잡으며 강해지는 RPG게임\n",
    "- 특정 레벨에 도달 시 직업을 선택할 수 있으며, 최종 보스를 클리어 할 시 게임이 종료된다.\n",
    "- 게임 캐릭터의 스펙, 만나는 소환수 등이 랜덤으로 정해지는 게임"
   ]
  },
  {
   "cell_type": "code",
   "execution_count": 32,
   "id": "8769ae78-6413-4183-a22e-a844aa01a392",
   "metadata": {},
   "outputs": [],
   "source": [
    "# 기본 클래스 설정\n",
    "import random\n",
    "class Human: # 첫 시작 직업, 모두 동일\n",
    "    def __init__(self, name:str, health:int, strength:int, magic:int, armor:int):\n",
    "        self.name = name\n",
    "        self.lv = 1\n",
    "        self.heart = 1 # 추가보상으로 얻을 수 있음\n",
    "        self.health = health\n",
    "        self.strength = strength\n",
    "        self.magic = magic\n",
    "        self.armor = armor\n",
    "    def status(self):\n",
    "        print(f'이름 : {self.name}\\n레벨 : {self.lv}\\n목숨 : {self.heart}\\n체력 : {self.health}\\n공격력 : {self.strength} \\\n",
    "        \\n주문력"
   ]
  },
  {
   "cell_type": "code",
   "execution_count": 34,
   "id": "41bacecb-9488-47db-ab82-d2a47e3b5c03",
   "metadata": {},
   "outputs": [
    {
     "name": "stdin",
     "output_type": "stream",
     "text": [
      "캐릭터명을 입력하십시오. 지존맨\n"
     ]
    }
   ],
   "source": [
    "# 캐릭터 생성\n",
    "# health(체력) : 1~10 / strenth(공격력) : 1~5 / magic(주문력) : 0~20 / armor(방어력) : 0~5\n",
    "import random\n",
    "health = random.randint(1, 10)\n",
    "strength = random.randint(1, 5)\n",
    "magic = random.randint(0, 20)\n",
    "armor = random.randint(0, 5)\n",
    "name = input('캐릭터명을 입력하십시오.')\n",
    "character = Human(name, health, strength, magic, armor)"
   ]
  },
  {
   "cell_type": "code",
   "execution_count": 2,
   "id": "b2a2a944-9b64-472e-b9ed-a90d840b9697",
   "metadata": {},
   "outputs": [
    {
     "name": "stdout",
     "output_type": "stream",
     "text": [
      "0.6471932180548577\n"
     ]
    }
   ],
   "source": [
    "import random\n",
    "print(random.random())"
   ]
  },
  {
   "cell_type": "code",
   "execution_count": 4,
   "id": "8126a029-8ff8-4adc-9a47-f998c3cd097e",
   "metadata": {
    "scrolled": true
   },
   "outputs": [
    {
     "name": "stdout",
     "output_type": "stream",
     "text": [
      "Help on built-in function random:\n",
      "\n",
      "random() method of random.Random instance\n",
      "    random() -> x in the interval [0, 1).\n",
      "\n"
     ]
    }
   ],
   "source": [
    "help(random.random)"
   ]
  },
  {
   "cell_type": "code",
   "execution_count": null,
   "id": "dc078bb6-95a4-410a-805f-a20fd93fe119",
   "metadata": {},
   "outputs": [],
   "source": []
  }
 ],
 "metadata": {
  "kernelspec": {
   "display_name": "Python 3 (ipykernel)",
   "language": "python",
   "name": "python3"
  },
  "language_info": {
   "codemirror_mode": {
    "name": "ipython",
    "version": 3
   },
   "file_extension": ".py",
   "mimetype": "text/x-python",
   "name": "python",
   "nbconvert_exporter": "python",
   "pygments_lexer": "ipython3",
   "version": "3.12.7"
  }
 },
 "nbformat": 4,
 "nbformat_minor": 5
}
