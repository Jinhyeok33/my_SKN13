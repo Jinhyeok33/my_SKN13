{
 "cells": [
  {
   "cell_type": "markdown",
   "id": "9d39c99a",
   "metadata": {
    "slideshow": {
     "slide_type": "slide"
    }
   },
   "source": [
    "# 1. 모듈(Module)\n",
    "\n",
    "- 독립적인 기능을 가지고 재사용 가능한 프로그램 단위를 모듈이라고 한다.\n",
    "- **파이썬에서 모듈**은 재사용 가능한 변수, 함수, 클래스들을 작성한 소스 파일을 말한다.\n",
    "    - 함수나 클래스를 작성한 파이썬 파일 (`.py` 파일)이 모듈이 된다.\n",
    "- 모듈파일에 작성된 함수나 클래스들을 다른 python 프로그램에서 호출 하여 사용할 수 있다.\n",
    "    - 단 사용하기 위해서는 `import` 를 먼저 해야 한다.\n",
    "- 이런 모듈들을 모아 놓으면 라이브러리가 된다.\n",
    "- **모듈의 종류**\n",
    "    - 표준 모듈\n",
    "        - 파이썬에 내장된 모듈\n",
    "    - 사용자 정의 모듈 (2nd Party 모듈)\n",
    "        - 개발자가 재사용을 위해 직접 만든 모듈 \n",
    "    - 3rd Party 모듈\n",
    "        - 특정 개발업체나 개발자들이 만들어 배포하는 모듈\n",
    "        - 사용자 정의 모듈도 배포되어 다른 곳에서 사용되면 3rd party 모듈이 된다.\n",
    "     \n",
    "> ## 파이썬 파일\n",
    "> - script 파일: 파이썬 실행 파일. 처리할 것을 실행 순서대로 작성한 파이썬 파일.\n",
    "> - module파일: 파이썬 라이브러리로 재사용가능한 함수, 클래스들을 작성한 파이썬 파일."
   ]
  },
  {
   "cell_type": "code",
   "execution_count": null,
   "id": "ae8f3bab",
   "metadata": {},
   "outputs": [],
   "source": [
    "'''\n",
    "표준 모듈 : numpy, random과 같이 파이썬 자체에 존재하는 모듈이지만 import를 필수적으로 요구하는 모듈\n",
    "'''"
   ]
  },
  {
   "cell_type": "markdown",
   "id": "0ba07092",
   "metadata": {
    "slideshow": {
     "slide_type": "slide"
    }
   },
   "source": [
    "# 2. 패키지 (Package)\n",
    "- 모듈(들)을 저장한 디렉토리를 패키지라고 한다.\n",
    "    - 그래서 파이썬에서는 **라이브러리를 패키지라고 한다.** (재사용가능한 모듈들을 모아 놓은 것이 패키지이므로)\n",
    "- 물리적으로는 모듈 파일(.py)들을 모아놓은 디렉토리(폴더)가 패키지이다.  \n",
    "- python 3.3 이전 버전은 package 디렉토리에 **\\_\\_init\\_\\_.py** 파일을 그 디렉토리에 반드시 위치시켜야 한다.\n",
    "    - 3.3 이후에는 위치시킬 필요는 없지만 package안의 모듈들의 import 관련 설정을 해야 하는 경우에는 `__init__.py`에 작성하고 위치시킨다.\n",
    "- **Root Package**\n",
    "    - 라이브러리를 구성하는 전체 모듈들을 담고 있는 최상위 패키지(디렉토리)\n",
    "    - 패키지 내의 속한 패키지를 통칭 **sub package** 라고 한다.\n",
    "    - Root package를 제외한 모든 package들은 다 sub package가 된다."
   ]
  },
  {
   "cell_type": "code",
   "execution_count": null,
   "id": "00a662f2",
   "metadata": {},
   "outputs": [],
   "source": [
    "'''\n",
    "어떠한 목적을 가진 패키지(root package, root directory) 내에 기능에 따라 여러 다른 하위 패키지(sub package, sub directroy)가 존재한다.\n",
    "각 하위 패키지 내에 독립적인 기능별로 여러 모듈(module)이 존재한다.\n",
    "각 모듈이 하나의 .py이며, 그 안에 여러 클래스 등이 정의되어 있다.\n",
    "라이브러리를 파이썬에서 패키지라고 부를 뿐이며, 이 디렉토리(=폴더) 자체를 다운경로로 사용한다.'\n",
    "\n",
    "\n",
    "패키지는 모듈을 담는 그릇이며, 우리는 import를 통해 모듈을 가져오는 것이다.\n",
    "'''"
   ]
  },
  {
   "cell_type": "code",
   "execution_count": null,
   "id": "4e1bdcf0",
   "metadata": {},
   "outputs": [],
   "source": [
    "'''\n",
    "% 기호는 '편집'에 대한 의미를 가진다.\n",
    "%% 두 개 짜리가 가지는 의미는 '전체 cell'을 의미하며\n",
    "% 한 개 짜리는 '한 줄'이 작동함을 의미한다.\n",
    "'''"
   ]
  },
  {
   "cell_type": "code",
   "execution_count": null,
   "id": "dc6b43b5",
   "metadata": {},
   "outputs": [
    {
     "name": "stdout",
     "output_type": "stream",
     "text": [
      "Writing ../weight_helper.py\n"
     ]
    }
   ],
   "source": [
    "%%writefile ./weight_helper.py\n",
    "# writefile이라는 명령어는 항상 항상 항상 cell의 가장 첫 줄에 위치해야 한다.\n",
    "# 현재 working directory(02_python)가 기준이 되므로 ./ 이후 주소도 적어주어야 한다.\n",
    "def check_bmi(tall, weight):\n",
    "    return weight/(tall**2)\n"
   ]
  },
  {
   "cell_type": "code",
   "execution_count": 5,
   "id": "576db42b",
   "metadata": {},
   "outputs": [],
   "source": [
    "# %load my_package/weight_helper.py\n",
    "def check_bmi(tall, weight):\n",
    "    return weight/(tall**2)\n"
   ]
  },
  {
   "cell_type": "markdown",
   "id": "4a874a76",
   "metadata": {
    "slideshow": {
     "slide_type": "slide"
    }
   },
   "source": [
    "# 3. import\n",
    "\n",
    "## 함수, 클래스 정의란\n",
    "1. 함수, 클래스를 구현한다.\n",
    "2. 구현된 함수, 클래스를 파이썬 실행환경에 등록한다.\n",
    "    - 등록하는 것은 메모리에 올리는(loading) 작업이다.\n",
    "    - 메모리에 올리기 위해서는 구현된 것을 실행시켜서 파이썬 실행환경이 읽도록 해야 한다.\n",
    "- 파이썬 실행환경에 등록된 함수와 클래스만 호출해서 사용할 수 있다."
   ]
  },
  {
   "cell_type": "markdown",
   "id": "654df5d6",
   "metadata": {
    "slideshow": {
     "slide_type": "subslide"
    }
   },
   "source": [
    "## 3.1. import 란\n",
    "- 파이썬 모듈 파일에 정의된 변수, 함수, 클래스들을 사용하기 위해 **파이썬 실행환경에 등록하는 작업**을 말한다.\n",
    "- 현재 프로그램 모듈의 것들이 아니라 **다른 모듈에 있는 것들은 사용하기 위해 import 작업을 먼저 해야 한다.**\n",
    "- 모듈을 import 하면 모듈의 내용이 실행되면서 그 안에 정의된 변수, 함수, 클래스들이 파이썬 실행환경 등록된다.\n",
    "    - import 된 변수, 함수, 클래스들은 모듈별로 namespace를 만들어 각각 등록된다.\n",
    "        - 현재 실행중인 module(main module) 에 정의된 함수, 클래스, 변수들이 저장되는 namespace와 import 되어 등록된 것들이 저장되는 namespace를 나누어 등록한다.\n",
    "\n",
    "\n",
    "> - **namespace**\n",
    ">    - 여러개의 객체(존재하는 무언가)를 하나로 묶어 주면서 구분자 역할을 하는 이름을 주는 것을 namespace라고 한다.\n",
    ">    - namespace를 이용해 각 그룹들의 객체들을 구분할 수 있다. 그래서 같은 이름의 객체들을 사용할 수 있다.\n",
    ">    - 파이썬에서는 모듈에 정의된 변수, 함수, 클래스 들을 실행환경에 등록할 때 모듈명을 namespace로 묶어서 등록한다.\n",
    ">    - [위키백과 참고](https://ko.wikipedia.org/wiki/%EC%9D%B4%EB%A6%84%EA%B3%B5%EA%B0%84)"
   ]
  },
  {
   "cell_type": "code",
   "execution_count": null,
   "id": "6b403968",
   "metadata": {},
   "outputs": [],
   "source": [
    "'''\n",
    "패키지, 혹은 모듈을 가져올 때 이들은 한 번씩 실행되며 메모리 상에 저장된다.\n",
    "이때 모듈의 이름을 따 구분자, namespace를 사용하여 메모리 상에 저장되기에 후에 모듈명.함수명() 등의 방식으로 접근이 가능한 것이다.\n",
    "'''"
   ]
  },
  {
   "cell_type": "markdown",
   "id": "34083bd0",
   "metadata": {
    "slideshow": {
     "slide_type": "subslide"
    }
   },
   "source": [
    "## 3.2. import 구문\n",
    "- 기본구문\n",
    "    - `[from 사용할 것의 경로] import 사용할 것 [as 별칭] [, 사용할 것 [as 별칭], ...]`\n",
    "        - \\[ \\] : 생략 가능한 구문\n",
    "    - 사용할 것\n",
    "        - 모듈\n",
    "        - 모듈안에 정의된 변수, 함수, 클래스"
   ]
  },
  {
   "cell_type": "code",
   "execution_count": null,
   "id": "0176c5c6",
   "metadata": {},
   "outputs": [],
   "source": [
    "# 모듈안에 정의된 일부 내용만을 가져오는 경우, 메모리를 아낄 수 있으며 해당 내용 사용시 namespace 없이 바로 사용이 가능하다.\n",
    "# 그래서 패키지를 가져오기 위해 from 구문이 존재하는 것이다."
   ]
  },
  {
   "cell_type": "markdown",
   "id": "37a67c0e",
   "metadata": {
    "slideshow": {
     "slide_type": "subslide"
    }
   },
   "source": [
    "<b style='font-size:1.2em'> 1. 모듈 import</b>\n",
    "```python\n",
    "import 모듈   # 하나의 모듈 import.\n",
    "import 모듈 as 별칭 # namespace의 이름을 모듈명이 아니라 별칭으로 지정한다.\n",
    "import 모듈_1, 모듈_2 # 여러개 모듈 import.','를 구분자로 나열한다.\n",
    "```\n",
    "- 모듈을 import 하고 그 안에 함수, 클래스들을 사용할 때는 **모듈명이 namespace 의 이름이** 되므로 `모듈명.함수()`, `모듈명.Class` 구문으로 호출한다.\n",
    "    - namespace의 이름은 **import 뒤에 지정한 이름으로 설정된다.**\n",
    "- 별칭(Alias)를 주면 namespace의 이름으로 지정한 별칭을 사용한다.\n",
    "- **예**\n",
    "```python\n",
    "import test_module\n",
    "import my_module as mm\n",
    "# test_module의 hello() 함수 호출시\n",
    "test_module.hello()\n",
    "# my_module은 mm 별칭을 지정했으므로 mm을 namespace로 사용한다.\n",
    "p = mm.Person('홍길동', 30) # my_module의 Person 클래스 객체 생성\n",
    "```"
   ]
  },
  {
   "cell_type": "code",
   "execution_count": null,
   "id": "5709c926",
   "metadata": {
    "slideshow": {
     "slide_type": "fragment"
    }
   },
   "outputs": [],
   "source": []
  },
  {
   "cell_type": "markdown",
   "id": "63abaa38",
   "metadata": {
    "slideshow": {
     "slide_type": "subslide"
    }
   },
   "source": [
    "<b style='font-size:1.2em'>2. 모듈내의 특정 항목만 import</b>\n",
    "```python \n",
    "from 모듈 import 함수  # 함수/클래스가 있는 모듈과 함수를 분리해서 import한다.\n",
    "from 모듈 import 클래스\n",
    "from 모듈 import 함수_1, 함수_2, 클래스\n",
    "from 모듈 import *   \n",
    "```\n",
    "- 모듈에 정의된 **일부 함수나 클래스만 사용할 경우** 개별적으로 import 할 수있다.\n",
    "- `from 모듈 import 함수` 구문으로 import 하면 import한 **함수나 클래스들이 현재 실행중인 모듈의 namespace로 들어간다. 그래서 모듈명없이 바로 호출 할 수 있다.**\n",
    "- `*`를 이용하면 그 모듈의 모든 함수/클래스들을 현재 실행중인 namespace에 추가해 사용할 수 있게 해준다. 이 방식은 **이름 충돌의 가능성이 있기때문에 추천되지 않는다.**"
   ]
  },
  {
   "cell_type": "code",
   "execution_count": null,
   "id": "fc1ac887",
   "metadata": {
    "slideshow": {
     "slide_type": "fragment"
    }
   },
   "outputs": [],
   "source": [
    "# from 구문은 모듈과 패키지를 당연히 !!! 가리지 않는다."
   ]
  },
  {
   "cell_type": "markdown",
   "id": "b8bc6da8",
   "metadata": {
    "slideshow": {
     "slide_type": "subslide"
    }
   },
   "source": [
    "<b style='font-size:1.2em'>3. 패키지에 속한 모듈 import</b>\n",
    "\n",
    "```python\n",
    "import 패키지명.모듈\n",
    "from 패키지명 import 모듈\n",
    "from 패키지명 import 모듈_1, 모듈_2\n",
    "from 패키지명.모듈 import 함수\n",
    "from 패키지명.모듈 import 클래스\n",
    "from 패키지명.모듈 import 함수_1, 함수_2, 클래스\n",
    "from Root패키지.Sub패키지1.Sub패키지2 import 모듈        # 패키지가 계층구조로 되있을 경우 `.` 으로 이용해 나열한다.\n",
    "from Root패키지.Sub패키지1.Sub패키지2.모듈 import 함수\n",
    "from Root패키지.Sub패키지1.Sub패키지2.모듈 import 클래스\n",
    "```\n",
    "\n",
    "- 패키지에 속한 모듈을 import 할 때는 **from 절에 패키지를 import 절에 모듈을** 설정한다.\n",
    "- **import 가능한 것은 모듈, 변수, 함수, 클래스 들이다.**  <b style='color:red'>패키지는 import 할수 없다.</b>\n",
    "    - **모듈 안의 변수, 함수, 클래스들을 import 할 때는 `from 모듈 import 함수, 변수, 클래스` 구문을 사용해야 한다.**"
   ]
  },
  {
   "cell_type": "code",
   "execution_count": 20,
   "id": "6ebd3cdd",
   "metadata": {
    "slideshow": {
     "slide_type": "fragment"
    }
   },
   "outputs": [],
   "source": [
    "# calculator 모듈을 import\n",
    "import my_package.calculator as calc\n",
    "from my_package import calculator as calc\n",
    "\n",
    "from my_package import calculator as calc, weight_helper as wh"
   ]
  },
  {
   "cell_type": "code",
   "execution_count": 18,
   "id": "dd81e5b0",
   "metadata": {},
   "outputs": [
    {
     "data": {
      "text/plain": [
       "30"
      ]
     },
     "execution_count": 18,
     "metadata": {},
     "output_type": "execute_result"
    }
   ],
   "source": [
    "# %load my_package/calculator.py\n",
    "# my_package/calculator.py\n",
    "\n",
    "# 변수 (global)\n",
    "__version__ = 0.1\n",
    "\n",
    "#함수\n",
    "def plus(num1, num2):\n",
    "    return num1 + num2\n",
    "\n",
    "def minus(num1, num2):\n",
    "    return num1 - num2\n",
    "\n",
    "def multiply(num1, num2):\n",
    "    return num1 * num2\n",
    "\n",
    "def divide(num1, num2):\n",
    "    return num1 / num2\n",
    "\n",
    "plus(10, 20)\n"
   ]
  },
  {
   "cell_type": "code",
   "execution_count": null,
   "id": "c8ec5a7b",
   "metadata": {},
   "outputs": [
    {
     "name": "stdout",
     "output_type": "stream",
     "text": [
      "my_package.calculator\n",
      "__main__\n"
     ]
    }
   ],
   "source": [
    "## 모듈에 있는 함수, 클래스를 import\n",
    "from my_package import calculator\n",
    "# from 패키지명.모듈명 import 함수/클래스명 -> 현재 실행중인 모듈(__main__, 내 파일)의 namespace에 정의\n",
    "print(__name__)\n",
    "\n",
    "\n",
    "### 이미 동일 파일이 import 되어 있는 경우, 파이썬은 import 구문을 실행하지 않는다.\n",
    "# 각 모듈마다 고유한 메모리를 부여해서 따로 관리하기 때문이다.\n",
    "# 따라서 import 대상 파일이 변경되었을 경우, 재시작을 하거나 kernel을 재연결해주어야 한다."
   ]
  },
  {
   "cell_type": "markdown",
   "id": "6a263cf2",
   "metadata": {
    "slideshow": {
     "slide_type": "slide"
    }
   },
   "source": [
    "## 3.3. import 된 모듈 찾는 경로 및 PYTHONPATH\n",
    "\n",
    "- `import 모듈` 구문을 사용하면 파이썬 실행 환경은 모듈을 다음 경로에서 찾는다.\n",
    "    1. 현재 실행중인 모듈(import 구문을 사용한 모듈)이 있는 경로\n",
    "    2. 파이썬 실행환경에 등록된 경로\n",
    "- 모듈을 찾는 순서는 다음에서 확인할 수 있다.\n",
    "```python\n",
    "import sys      # 표준모듈 sys\n",
    "print(sys.path) # 모듈을 찾는 경로를 저장한 list\n",
    "```\n",
    "- 위의 경로 이외에 파이썬 모듈이 있을 경우 PYTHONPATH 환경변수에 그 디렉토리 경로를 등록한다.\n",
    "    1. sys.path 에 추가한다. (사용할 때 마다 추가해야 한다.)\n",
    "    2. 운영체제 환경변수에 등록한다. (한번만 하면된다.)"
   ]
  },
  {
   "cell_type": "code",
   "execution_count": null,
   "id": "696679c4",
   "metadata": {},
   "outputs": [
    {
     "ename": "SyntaxError",
     "evalue": "invalid syntax (390531712.py, line 3)",
     "output_type": "error",
     "traceback": [
      "\u001b[1;36m  Cell \u001b[1;32mIn[6], line 3\u001b[1;36m\u001b[0m\n\u001b[1;33m    from 'c:/SKN13/git/my_SKN13/02_Python/my_package' import calculator as calc\u001b[0m\n\u001b[1;37m         ^\u001b[0m\n\u001b[1;31mSyntaxError\u001b[0m\u001b[1;31m:\u001b[0m invalid syntax\n"
     ]
    }
   ],
   "source": [
    "# 이래서 같은 폴더 내(= 현재 실행중인 모듈 경로)에 있는 다른 모듈은 바로 import가 가능하지만,\n",
    "# 그렇지 못한 경우 대부분 경로를 지정해주거나 추가해주어야 한다.\n",
    "from c:/SKN13/git/my_SKN13/02_Python/my_package import calculator as calc"
   ]
  },
  {
   "cell_type": "code",
   "execution_count": null,
   "id": "7c356d60",
   "metadata": {
    "slideshow": {
     "slide_type": "fragment"
    }
   },
   "outputs": [
    {
     "name": "stdout",
     "output_type": "stream",
     "text": [
      "['c:\\\\SKN13\\\\git\\\\my_SKN13\\\\02_Python', 'c:\\\\Users\\\\jinhy\\\\anaconda3\\\\python312.zip', 'c:\\\\Users\\\\jinhy\\\\anaconda3\\\\DLLs', 'c:\\\\Users\\\\jinhy\\\\anaconda3\\\\Lib', 'c:\\\\Users\\\\jinhy\\\\anaconda3', '', 'c:\\\\Users\\\\jinhy\\\\anaconda3\\\\Lib\\\\site-packages', 'c:\\\\Users\\\\jinhy\\\\anaconda3\\\\Lib\\\\site-packages\\\\win32', 'c:\\\\Users\\\\jinhy\\\\anaconda3\\\\Lib\\\\site-packages\\\\win32\\\\lib', 'c:\\\\Users\\\\jinhy\\\\anaconda3\\\\Lib\\\\site-packages\\\\Pythonwin', 'c:\\\\Users\\\\jinhy\\\\anaconda3\\\\Lib\\\\site-packages\\\\setuptools\\\\_vendor']\n"
     ]
    }
   ],
   "source": [
    "import sys\n",
    "print(sys.path)\n",
    "sys.path.append(r'c:/temp')"
   ]
  },
  {
   "cell_type": "markdown",
   "id": "4222ef77",
   "metadata": {
    "slideshow": {
     "slide_type": "slide"
    }
   },
   "source": [
    "# 4. 메인 모듈(Main Module)과 하위 모듈(Sub Module)\n",
    "\n",
    "- **메인 모듈**\n",
    "    - 현재 실행하고 있는 모듈 (현재 실행 파일)\n",
    "        - `python 모듈.py` 로 실행된 모듈을 말한다.\n",
    "    - application 의 main logic을 처리한다.\n",
    "- **하위 모듈 (Sub module)**\n",
    "    - 메인 모듈에서 import 되어 실행되는 모듈\n",
    "    - 모듈을 import하면 그 모듈을 실행 시킨다. 이때 모듈에 있는 실행코드들도 같이 실행된다. 이것을 방지 하기 위해 모듈이 메인 모듈로 실행되는지 하위 모듈로 실행되는지 확인이 필요하다.\n",
    "- <b>`__name__`</b> 내장 전역변수\n",
    "    - 실행 중인 모듈명을 저장하는 내장 전역(한 모듈 내)변수\n",
    "    - **메인 모듈은 '\\_\\_main\\_\\_'** 을 **하위 모듈은 모듈명(파일명)** 이 저장된다.\n",
    "    - 각 모듈에 대해 고유한 값으로 존재하며, 모듈이 불려올 때 처리되어 저징되어 있다.\n",
    "    - 모듈이 메인 모듈로 시작하는지 여부 확인 할 때 사용한다.\n",
    "    \n",
    "```python\n",
    "if __name__ == '__main__':\n",
    "    # 메인모듈일 때만 실행할 코드 블록\n",
    "```"
   ]
  },
  {
   "cell_type": "code",
   "execution_count": null,
   "id": "f958ebb9",
   "metadata": {
    "slideshow": {
     "slide_type": "fragment"
    }
   },
   "outputs": [],
   "source": [
    "# __name__ 기본값의 경우 모든 모듈마다 하나씩 존재하는 고유한 값이며, 모듈 내용과 상관없이 이 모듈이 메인 모듈로 실행되면 __main__\n",
    "# import 되어 불러질 경우 모듈명으로 정해진다."
   ]
  },
  {
   "cell_type": "markdown",
   "id": "cadef5be",
   "metadata": {},
   "source": [
    "# 3rd party library 설치\n",
    "\n",
    "- 기능을 모아 놓은 것이 **모듈(module)** 이고 모듈을 모아 놓은 것이 **패키지** 이고 그런 패키지들을 모아서 놓은 것이 **Library** 이다.\n",
    "- **Library** 는 범용적으로 사용할 수있는 기능들을 구현해서 배포한 것을 말한다. 파이썬에서는 라이브러리를 패키지라고도 한다.\n",
    "- Library는 누구든 만들어서 배포(제공)할 수있다.\n",
    "    - **1st party library:** 파이썬 실행 환경 설치시 내장되어 있는 library\n",
    "    - **2nd party library:** Application을 만들면서 필요에 따가 정의한 library (내가 만든 라이브러리)\n",
    "    - **3rd party library:** 개인이나 회사 또는 단체에서 만들어 배포한 library.\n",
    "- Python은 3rd party library 생태계가 잘 이루어져 있다.\n",
    "    - 파이썬은 라이브러리 저장소(repository)를 이용해 라이브러리 작성자들과 사용자들을 연결해 배포와 사용을 쉽게 할 수 있도록 한다.\n",
    "    - **PyPI:** 파이썬 공식 라이브러리 저장소\n",
    "        - https://pypi.org/ : 라이브러리 검색 사이트\n",
    "        - pip tool을 이용해 라이브러리를 관리한다.\n",
    "    - **Conda Repository:** Anaconda 에서 제공하는 라이브러리 저장소\n",
    "        - https://anaconda.org/anaconda/repo : 패키지 검색 사이트\n",
    "        - conda tool 을 이용해 라이브러리를 관리한다."
   ]
  },
  {
   "cell_type": "code",
   "execution_count": null,
   "id": "453516b6",
   "metadata": {},
   "outputs": [],
   "source": [
    "# 기본적으로 연관되어 있는(by import) 모든 모듈을 한 번에 다 받아준다."
   ]
  },
  {
   "cell_type": "markdown",
   "id": "c914e151",
   "metadata": {},
   "source": [
    "### PIP 주요 명령어\n",
    "- pip는 python runtime 설치하면 같이 설치되는 **라이브러리 관리 툴**이다.\n",
    "- `!pip` / `%pip`\n",
    "    - 파이썬 명령어가 아니라 cell 명령어로서 인식된다.\n",
    "- `pip --help`\n",
    "- `pip install 라이브러리[==version]` \n",
    "    - Library를 설치한다.\n",
    "    - version을 지정하면 그 버전으로 지정하지 않으면 최신버전을 설치한다.\n",
    "    - upgrade나 downgrade는 진행하지 않는다. (이미 설치 된 library가 있으면 다시 설치 하지 않는다.)\n",
    "    - 관리자 권한일 경우 설치되는 library가 있다. 이 경우 **--user** 옵션을 지정한다.\n",
    "- `pip install --upgrade 라이브러리[==version]`, \\-U \\-\\-upgrade\n",
    "    - Library를 upgrade 또는 downgrade한다.\n",
    "    - Library가 없으면 설치한다.\n",
    "    - 이미 설치된 Library가 지정한 version과 다르면 다시 설치한다. (version을 생략하면 최신버전)\n",
    "- `pip install --requirement 파일경로`,  \\-r, \\-\\-requirement\n",
    "    - 파일경로의 text 파일에 설치할 library이름과 버전을 작성한다. 그리고 작성된 library들을 한번에 설치한다.\n",
    "- `pip freeze > 파일명.txt`\n",
    "    - 옮겨 적기 편한 출력으로.\n",
    "    - 현재 설치된 library들을 \\-\\-requirement로 설치할 수 있도록 text 파일에 작성해 준다. 관례적으로 파일명은 **requirements.txt** 로 한다.\n",
    "- `pip uninstall 패키지명`\n",
    "    - Library를 local 컴퓨터에서 삭제한다.\n",
    "- `pip list`: 설치된 모든 library 목록을 출력한다. 조금 더 보기 편한 출력으로.\n",
    "- `pip show 라이브러리`\n",
    "    - 지정한 library의 정보를 출력한다.\n",
    "    - 라이브러리 계의 help()함수수"
   ]
  },
  {
   "cell_type": "code",
   "execution_count": 14,
   "id": "9a1ade55",
   "metadata": {},
   "outputs": [
    {
     "name": "stdout",
     "output_type": "stream",
     "text": [
      "Name: pandas\n",
      "Version: 2.2.2\n",
      "Summary: Powerful data structures for data analysis, time series, and statistics\n",
      "Home-page: https://pandas.pydata.org\n",
      "Author: \n",
      "Author-email: The Pandas Development Team <pandas-dev@python.org>\n",
      "License: BSD 3-Clause License\n",
      "\n",
      "Copyright (c) 2008-2011, AQR Capital Management, LLC, Lambda Foundry, Inc. and PyData Development Team\n",
      "All rights reserved.\n",
      "\n",
      "Copyright (c) 2011-2023, Open source contributors.\n",
      "\n",
      "Redistribution and use in source and binary forms, with or without\n",
      "modification, are permitted provided that the following conditions are met:\n",
      "\n",
      "* Redistributions of source code must retain the above copyright notice, this\n",
      "  list of conditions and the following disclaimer.\n",
      "\n",
      "* Redistributions in binary form must reproduce the above copyright notice,\n",
      "  this list of conditions and the following disclaimer in the documentation\n",
      "  and/or other materials provided with the distribution.\n",
      "\n",
      "* Neither the name of the copyright holder nor the names of its\n",
      "  contributors may be used to endorse or promote products derived from\n",
      "  this software without specific prior written permission.\n",
      "\n",
      "THIS SOFTWARE IS PROVIDED BY THE COPYRIGHT HOLDERS AND CONTRIBUTORS \"AS IS\"\n",
      "AND ANY EXPRESS OR IMPLIED WARRANTIES, INCLUDING, BUT NOT LIMITED TO, THE\n",
      "IMPLIED WARRANTIES OF MERCHANTABILITY AND FITNESS FOR A PARTICULAR PURPOSE ARE\n",
      "DISCLAIMED. IN NO EVENT SHALL THE COPYRIGHT HOLDER OR CONTRIBUTORS BE LIABLE\n",
      "FOR ANY DIRECT, INDIRECT, INCIDENTAL, SPECIAL, EXEMPLARY, OR CONSEQUENTIAL\n",
      "DAMAGES (INCLUDING, BUT NOT LIMITED TO, PROCUREMENT OF SUBSTITUTE GOODS OR\n",
      "SERVICES; LOSS OF USE, DATA, OR PROFITS; OR BUSINESS INTERRUPTION) HOWEVER\n",
      "CAUSED AND ON ANY THEORY OF LIABILITY, WHETHER IN CONTRACT, STRICT LIABILITY,\n",
      "OR TORT (INCLUDING NEGLIGENCE OR OTHERWISE) ARISING IN ANY WAY OUT OF THE USE\n",
      "OF THIS SOFTWARE, EVEN IF ADVISED OF THE POSSIBILITY OF SUCH DAMAGE.\n",
      "Location: C:\\Users\\jinhy\\anaconda3\\Lib\\site-packages\n",
      "Requires: numpy, python-dateutil, pytz, tzdata\n",
      "Required-by: altair, bokeh, dask-expr, datashader, holoviews, hvplot, panel, seaborn, statsmodels, streamlit, xarray\n"
     ]
    }
   ],
   "source": [
    "!pip list --format=freeze > requirement.txt\n",
    "!pip show pandas"
   ]
  },
  {
   "cell_type": "code",
   "execution_count": null,
   "id": "33e6cec3",
   "metadata": {},
   "outputs": [
    {
     "name": "stdout",
     "output_type": "stream",
     "text": [
      "Requirement already satisfied: pandas in c:\\users\\jinhy\\anaconda3\\lib\\site-packages (2.2.2)\n",
      "Requirement already satisfied: numpy>=1.26.0 in c:\\users\\jinhy\\anaconda3\\lib\\site-packages (from pandas) (1.26.4)\n",
      "Requirement already satisfied: python-dateutil>=2.8.2 in c:\\users\\jinhy\\anaconda3\\lib\\site-packages (from pandas) (2.9.0.post0)\n",
      "Requirement already satisfied: pytz>=2020.1 in c:\\users\\jinhy\\anaconda3\\lib\\site-packages (from pandas) (2024.1)\n",
      "Requirement already satisfied: tzdata>=2022.7 in c:\\users\\jinhy\\anaconda3\\lib\\site-packages (from pandas) (2023.3)\n",
      "Requirement already satisfied: six>=1.5 in c:\\users\\jinhy\\anaconda3\\lib\\site-packages (from python-dateutil>=2.8.2->pandas) (1.16.0)\n",
      "Requirement already satisfied: matplotlib in c:\\users\\jinhy\\anaconda3\\lib\\site-packages (3.9.2)\n",
      "Requirement already satisfied: contourpy>=1.0.1 in c:\\users\\jinhy\\anaconda3\\lib\\site-packages (from matplotlib) (1.2.0)\n",
      "Requirement already satisfied: cycler>=0.10 in c:\\users\\jinhy\\anaconda3\\lib\\site-packages (from matplotlib) (0.11.0)\n",
      "Requirement already satisfied: fonttools>=4.22.0 in c:\\users\\jinhy\\anaconda3\\lib\\site-packages (from matplotlib) (4.51.0)\n",
      "Requirement already satisfied: kiwisolver>=1.3.1 in c:\\users\\jinhy\\anaconda3\\lib\\site-packages (from matplotlib) (1.4.4)\n",
      "Requirement already satisfied: numpy>=1.23 in c:\\users\\jinhy\\anaconda3\\lib\\site-packages (from matplotlib) (1.26.4)\n",
      "Requirement already satisfied: packaging>=20.0 in c:\\users\\jinhy\\anaconda3\\lib\\site-packages (from matplotlib) (24.1)\n",
      "Requirement already satisfied: pillow>=8 in c:\\users\\jinhy\\anaconda3\\lib\\site-packages (from matplotlib) (10.4.0)\n",
      "Requirement already satisfied: pyparsing>=2.3.1 in c:\\users\\jinhy\\anaconda3\\lib\\site-packages (from matplotlib) (3.1.2)\n",
      "Requirement already satisfied: python-dateutil>=2.7 in c:\\users\\jinhy\\anaconda3\\lib\\site-packages (from matplotlib) (2.9.0.post0)\n",
      "Requirement already satisfied: six>=1.5 in c:\\users\\jinhy\\anaconda3\\lib\\site-packages (from python-dateutil>=2.7->matplotlib) (1.16.0)\n",
      "Note: you may need to restart the kernel to use updated packages.\n"
     ]
    },
    {
     "data": {
      "text/plain": [
       "'\\npip install pandas==2.2.0\\npip install pandas -U \\n'"
      ]
     },
     "execution_count": 10,
     "metadata": {},
     "output_type": "execute_result"
    }
   ],
   "source": [
    "%pip install pandas\n",
    "%pip install matplotlib\n",
    "'''\n",
    "pip install pandas==2.2.0\n",
    "pip install pandas -U \n",
    "'''"
   ]
  },
  {
   "cell_type": "code",
   "execution_count": 9,
   "id": "9d47f3c4",
   "metadata": {},
   "outputs": [],
   "source": [
    "import pandas as pd\n",
    "import numpy as np"
   ]
  },
  {
   "cell_type": "code",
   "execution_count": null,
   "id": "d0c20b2f",
   "metadata": {},
   "outputs": [],
   "source": []
  }
 ],
 "metadata": {
  "kernelspec": {
   "display_name": "base",
   "language": "python",
   "name": "python3"
  },
  "language_info": {
   "codemirror_mode": {
    "name": "ipython",
    "version": 3
   },
   "file_extension": ".py",
   "mimetype": "text/x-python",
   "name": "python",
   "nbconvert_exporter": "python",
   "pygments_lexer": "ipython3",
   "version": "3.12.7"
  },
  "toc": {
   "base_numbering": 1,
   "nav_menu": {},
   "number_sections": true,
   "sideBar": true,
   "skip_h1_title": false,
   "title_cell": "Table of Contents",
   "title_sidebar": "Contents",
   "toc_cell": false,
   "toc_position": {},
   "toc_section_display": true,
   "toc_window_display": false
  },
  "varInspector": {
   "cols": {
    "lenName": 16,
    "lenType": 16,
    "lenVar": 40
   },
   "kernels_config": {
    "python": {
     "delete_cmd_postfix": "",
     "delete_cmd_prefix": "del ",
     "library": "var_list.py",
     "varRefreshCmd": "print(var_dic_list())"
    },
    "r": {
     "delete_cmd_postfix": ") ",
     "delete_cmd_prefix": "rm(",
     "library": "var_list.r",
     "varRefreshCmd": "cat(var_dic_list()) "
    }
   },
   "types_to_exclude": [
    "module",
    "function",
    "builtin_function_or_method",
    "instance",
    "_Feature"
   ],
   "window_display": false
  }
 },
 "nbformat": 4,
 "nbformat_minor": 5
}
