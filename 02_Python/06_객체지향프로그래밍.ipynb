{
 "cells": [
  {
   "cell_type": "markdown",
   "metadata": {
    "slideshow": {
     "slide_type": "slide"
    }
   },
   "source": [
    "# 객체지향 프로그래밍 (Object Oriented Programming)\n",
    "\n",
    "- 데이터를 객체(object)로 취급하며, 이러한 객체가 바로 프로그래밍의 구현의 중심인 프로그래밍 개발 방식.\n",
    "- 작은 객체들 하나하나를 이용하여 전체 프로그램을 작성하자.\n",
    "- 반대되는 개념으로 절차지향 프로그래밍이 존재한다.\n",
    "- 이 객체지향 프로그래밍의 정체성이 바로 Class(클래스) 이며, 파이썬에 존재하는 모든 함수, 내장함수, 모듈, 자료형(even Nonetype class)은 모두 클래스로 지정되어 있어 사용하기 간편하게 관리되어 있다.\n",
    "- 오직 '값'이 아닌 연산자, 문법, 예약어 만이 Class에서 벗어나 있다.\n",
    "\n",
    "- 대표되는 세 가지 특징으로 1) 캡슐화(Encapsulation), 2) 상속(Inheritance), 3) 다형성(Polymorphism)이 있다.\n",
    "- 캡슐화는 클래스로 구분된 데이터를 안전하게 보호하는 방법이며, 다형성은 같은 내용을 통해 여러 가지 활용을 가질 수 있다는 의미이다."
   ]
  },
  {
   "cell_type": "markdown",
   "metadata": {},
   "source": [
    "## Class(클래스) 정의\n",
    "\n",
    "-   객체지향 언어에서 데이터인 **객체(instance)** 를 어떻게 구성할지 정의한 설계도/템플릿을 **클래스** 라고 한다.\n",
    "- 파이썬에서 모든 객체, 즉 모든 데이터는 클래스로 정의되어 있기 마련이다.\n",
    "-   Class에는 다음 두가지를 정의한다.\n",
    "    1. **Attribute/State**\n",
    "        - 객체의 속성, 상태 값을 저장할 변수\n",
    "        - 보통 class로 정의하는 data는 여러개의 값들로 구성된다. 이 값들을 저장하는 변수를 attribute/state 라고 한다.\n",
    "            - **고객**: 고객ID, 패스워드, 이름, email, 주소, 전화번호, point ...\n",
    "            - **제품**: 제품번호, 이름, 제조사, 가격, 재고량\n",
    "        - Instance 변수라고 한다.\n",
    "        - 개별 객체는 각각의 instance변수를 가진다.\n",
    "    2. **behavior**\n",
    "        - 객체의 state 값을 처리하는 함수.\n",
    "        - instance method 라고 한다.\n",
    "        - 개별 객체(instance)들은 동일한 instance 메소드를 이용해 자신의 instance 변수의 값들을 처리한다.\n",
    "-   객체지향 프로그래밍이란 Data와 Data를 처리하는 함수를 분리하지 않고 하나로 묶어 모듈로 개발하는 방식이다. 그래서 어떤 값들과 어떤 함수를 묶을 것인지를 class로 정의한다. 그리고 그 class로 부터 **객체(instance)** 를 생성(instantiate)해서 사용한다.\n",
    "-   **class는 Data type이고 instance는 value 이다.**\n",
    "    > 파이썬에서는 class에 정의된 instance변수와 method를 합쳐 **Attribute** 라고 표현한다.\n",
    "\n",
    "### class 정의\n",
    "\n",
    "```python\n",
    "class 클래스이름:  #선언부\n",
    "    #클래스 구현\n",
    "    #메소드들을 정의\n",
    "```\n",
    "\n",
    "-   **클래스 이름의 관례**\n",
    "    -   **파스칼 표기법** 사용-각 단어의 첫글자는 대문자 나머진 소문자로 정의한다.\n",
    "    -   ex) Person, Student, HighSchoolStudent\n"
   ]
  },
  {
   "cell_type": "code",
   "execution_count": 30,
   "metadata": {},
   "outputs": [
    {
     "data": {
      "text/plain": [
       "['__class__',\n",
       " '__class_getitem__',\n",
       " '__contains__',\n",
       " '__delattr__',\n",
       " '__delitem__',\n",
       " '__dir__',\n",
       " '__doc__',\n",
       " '__eq__',\n",
       " '__format__',\n",
       " '__ge__',\n",
       " '__getattribute__',\n",
       " '__getitem__',\n",
       " '__getstate__',\n",
       " '__gt__',\n",
       " '__hash__',\n",
       " '__init__',\n",
       " '__init_subclass__',\n",
       " '__ior__',\n",
       " '__iter__',\n",
       " '__le__',\n",
       " '__len__',\n",
       " '__lt__',\n",
       " '__ne__',\n",
       " '__new__',\n",
       " '__or__',\n",
       " '__reduce__',\n",
       " '__reduce_ex__',\n",
       " '__repr__',\n",
       " '__reversed__',\n",
       " '__ror__',\n",
       " '__setattr__',\n",
       " '__setitem__',\n",
       " '__sizeof__',\n",
       " '__str__',\n",
       " '__subclasshook__',\n",
       " 'clear',\n",
       " 'copy',\n",
       " 'fromkeys',\n",
       " 'get',\n",
       " 'items',\n",
       " 'keys',\n",
       " 'pop',\n",
       " 'popitem',\n",
       " 'setdefault',\n",
       " 'update',\n",
       " 'values']"
      ]
     },
     "execution_count": 30,
     "metadata": {},
     "output_type": "execute_result"
    }
   ],
   "source": [
    "dir(dict)"
   ]
  },
  {
   "cell_type": "markdown",
   "metadata": {
    "slideshow": {
     "slide_type": "fragment"
    }
   },
   "source": [
    "## Instance(객체)\n",
    "\n",
    "-   class로 부터 생성된 값(value)로 클래스에서 정의한 attribute를 behavior를 이용해 처리한다.\n",
    "\n",
    "### 클래스로부터 객체(Instance) 생성\n",
    "\n",
    "```python\n",
    "변수 = 클래스이름()\n",
    "```\n"
   ]
  },
  {
   "cell_type": "code",
   "execution_count": 2,
   "metadata": {},
   "outputs": [],
   "source": [
    "class Person:\n",
    "    pass\n",
    "# 클래스로부터 객체(instance) 를 생성 -> 값을 생성.\n",
    "Person() # 이게 값을 생성한거고\n",
    "man = Person # 이건 클래스 자체 객체를 저장한 거고\n",
    "man2 = Person() # 이게 값을 생성해서 RAM에 저장한 것이다."
   ]
  },
  {
   "cell_type": "code",
   "execution_count": 6,
   "metadata": {
    "slideshow": {
     "slide_type": "fragment"
    }
   },
   "outputs": [
    {
     "name": "stdout",
     "output_type": "stream",
     "text": [
      "<class 'type'> <class '__main__.Person'>\n"
     ]
    }
   ],
   "source": [
    "print(type(man), type(man2))\n"
   ]
  },
  {
   "cell_type": "code",
   "execution_count": 8,
   "metadata": {},
   "outputs": [
    {
     "name": "stdout",
     "output_type": "stream",
     "text": [
      "홍길동 20\n"
     ]
    }
   ],
   "source": [
    "# instance 변수 (from attribute)은 각 instance에 고유한 속성이기에 미리 정의해주지 않아도 괜찮다.\n",
    "p = Person()\n",
    "p.name = '홍길동'\n",
    "p.age = 20\n",
    "print(p.name, p.age)"
   ]
  },
  {
   "cell_type": "markdown",
   "metadata": {
    "slideshow": {
     "slide_type": "subslide"
    }
   },
   "source": [
    "## Attribute(속성) - instance 변수\n",
    "\n",
    "-   attribute는 객체의 데이터, 객체를 구성하는 값들, 객체의 상태값들을 말한다.\n",
    "-   값을 저장하므로 변수로 정의한다. 그래서 **instance 변수** 라고 한다.\n",
    "- 각 instance 객체(from class)에 해당하는 attribute를 **instance 변수**(from attribute) 라고 한다.\n",
    "\n",
    "### 객체에 속성을 추가, 조회\n",
    "\n",
    "-   **객체의 속성 추가(값 변경)**\n",
    "    1. Initializer(생성자)를 통한 추가\n",
    "        - 객체에 처음 attribute를 정의한다. 이것을 **초기화** 라고 한다.\n",
    "    2. 객체.속성명 = 값 (추가/**변경**)\n",
    "    3. 메소드를 통한 추가/**변경**\n",
    "        - 2, 3번 방식은 initializer에서 초기화한 attribute를 변경한다.\n",
    "-   **속성 값 조회**\n",
    "    -   `객체.속성명`\n",
    "-   `객체.___dict__`\n",
    "    -   객체가 가지고 있는 Attribute들을 dictionary로 반환한다.\n"
   ]
  },
  {
   "cell_type": "markdown",
   "metadata": {
    "slideshow": {
     "slide_type": "subslide"
    }
   },
   "source": [
    "### 생성자(Initializer)\n",
    "\n",
    "-   객체를 생성할 때 호출되는 특수메소드로 attribute들 초기화에 하는 코드를 구현한다.\n",
    "    -   Initializer를 이용해 초기화하는 Attribute들이 그 클래스에서 생성된 객체들이 가지는 Attribute가 된다.\n",
    "    -   객체 생성후 새로운 attribute들을 추가 할 수 있지만 하지 않는 것이 좋다.\n",
    "-   구문\n",
    "\n",
    "```python\n",
    "def __init__(self [,매개변수들 선언]):  #[ ] 옵션.\n",
    "    # 구현 -> attribute(instance변수) 초기화\n",
    "    self.속성명 = 값\n",
    "```\n",
    "\n",
    "> 변수 초기화: 처음 변수 만들어서 처음 값 대입하는 것.\n"
   ]
  },
  {
   "cell_type": "code",
   "execution_count": null,
   "metadata": {
    "slideshow": {
     "slide_type": "fragment"
    }
   },
   "outputs": [],
   "source": [
    "# Initializer 를 이용해 instance 변수(개인 속성) 초기화\n",
    "## 같은 클래스에서 생성된 모든 값들(instance)이 공통적으로 가져야 하는 instance변수들을 정의\n",
    "##### 내부 메소드 상에서 self 변수는 생성중인 instance 객체 본인을 가리킨다 !!!\n",
    "class Person1():\n",
    "    def __init__(self, name, age, address=None): # 객체 생성 도중에 자동으로 호출되는 기본 메소드\n",
    "                                                 # class내에서 다뤄지는 instance 변수의 경우 여기에 지정되어 RAM에 저장되어야 사용가능하다.\n",
    "        '''\n",
    "        Args:\n",
    "            self(Person1) : 생성중인 객체(instance)\n",
    "            name, age, address(str, int, str) : instance 변수에 저장할 값\n",
    "        '''\n",
    "        self.name = name # 왼쪽은 instance 객체에 적힌 instance 변수, 오른쪽은 잠깐 가져온 지역 변수 !!!!!\n",
    "        self.age = age\n",
    "        self.address = address"
   ]
  },
  {
   "cell_type": "code",
   "execution_count": 31,
   "metadata": {},
   "outputs": [
    {
     "name": "stdout",
     "output_type": "stream",
     "text": [
      "<__main__.Person1 object at 0x000002B677C4F260>\n",
      "asd\n"
     ]
    },
    {
     "data": {
      "text/plain": [
       "{'name': '홍길동', 'age': 20, 'address': '서울', 'asd': 'asd'}"
      ]
     },
     "execution_count": 31,
     "metadata": {},
     "output_type": "execute_result"
    }
   ],
   "source": [
    "p = Person1('홍길동', 20, '서울') # __init__() 메소드를 호출\n",
    "print(p)\n",
    "p.asd = 'asd'\n",
    "q = Person1('이순신', 21, '강남')\n",
    "print(p.asd) # 추가 속성은 같은 클래스의 다른 instance에 대해서는 Attribute 오류를 내기에 변경에만 사용하자...\n",
    "p.__dict__ # 객체의 Attribute을 dictionary 타입으로 표현해주는 메소드"
   ]
  },
  {
   "cell_type": "code",
   "execution_count": null,
   "metadata": {},
   "outputs": [],
   "source": [
    "'''메모리 상의 구역\n",
    "\n",
    "전역 변수, Global 변수가 저장되는 공간\n",
    "지역 변수, Local 변수가 저장되는 공간(Stack)\n",
    "객체 변수, Instance 변수가 저장되는 공간(Heap)으로 나누어져 있다.\n",
    "\n",
    "전역 변수의 경우 계속 가지고 있을 정보이다.\n",
    "    예컨대, 각 클래스, 객체의 '주소'가 저장되어 있다.\n",
    "지역 변수의 경우 클래스 호출이 종료된 후 바로 지울 정보이다.\n",
    "객체 변수의 경우 클래스 호출이 일어날 때 불러올 정보이다.\n",
    "    예컨대, 주소에 따라 불러온 이곳에는 각 클래스, 객체의 'Attribute'와 'Method'등이 저장되어 있다.\n",
    "\n",
    "쓰임새가 다르기에 저장소도 구분되어 있는 것\n",
    "'''"
   ]
  },
  {
   "cell_type": "markdown",
   "metadata": {
    "slideshow": {
     "slide_type": "subslide"
    }
   },
   "source": [
    "### Instance 메소드(method)\n",
    "\n",
    "-   객체가 제공하는 기능\n",
    "-   객체의 attribute 값을 처리하는 기능을 구현한다.\n",
    "-   구문\n",
    "\n",
    "```python\n",
    "def 이름(self [, 매개변수들 선언]):\n",
    "    # 구현\n",
    "    # attribute 사용(조회/대입)\n",
    "    self.attribute\n",
    "```\n",
    "\n",
    "-   self 매개변수 - 메소드를 소유한 객체를 받는 변수 - 호출할 때 전달하는 argument를 받는 매개변수는 두번째 부터 선언한다.<br><br>\n",
    "    ![self](images/ch06_01.png)\n",
    "-   **메소드 호출**\n",
    "    -   `객체.메소드이름([argument, ...])`\n",
    "\n",
    "### instance 메소드의 self parameter\n",
    "\n",
    "-   메소드는 반드시 한개 이상의 parameter를 선언해야 하고 그 첫번째 parameter는 **관례적으로** 변수명을 `self`로 한다.\n",
    "-   메소드 호출시 그 메소드를 소유한 instance가 self parameter에 할당된다.\n",
    "    -   메소드 안에서 self는 instance를 가리키며 그 instance에 정의된 attribute나 method를 호출 할 때 사용한다.\n",
    "-   **Initializer의 self**\n",
    "    -   현재 만들어 지고 있는 객체를 받는다. (Instance 객체 자체)\n",
    "-   **메소드의 self**\n",
    "    -   메소드를 소유한 객체를 받는다. (전역 변수의 객체)\n",
    "-   Caller에서 생성자/메소드에 전달된 argument들을 받을 parameter는 두번째 변수부터 선언한다.\n"
   ]
  },
  {
   "cell_type": "code",
   "execution_count": 36,
   "metadata": {
    "slideshow": {
     "slide_type": "fragment"
    }
   },
   "outputs": [
    {
     "name": "stdout",
     "output_type": "stream",
     "text": [
      "이름: 홍길동, 나이: 20, 주소: 서울시\n",
      "이름: 이순신, 나이: 34, 주소: 김포시\n"
     ]
    }
   ],
   "source": [
    "class Person2:\n",
    "    def __init__(self, name, age, address=None):\n",
    "        \"\"\"\n",
    "        Args:\n",
    "            self(Person2) - 생성중인 객체(instance)\n",
    "            name, age, address(추가 파라미터) - instance 변수에 저장할 값\n",
    "        \"\"\"\n",
    "        self.name = name\n",
    "        self.age = age\n",
    "        self.address = address\n",
    "    def get_info(self):\n",
    "        '''\n",
    "        Person의 정보를 반환하는 메소드. (name, age, address를 하나의 문자열에 묶어서 반환)\n",
    "        '''\n",
    "        return f'이름: {self.name}, 나이: {self.age}, 주소: {self.address}'\n",
    "p = Person2('홍길동', 20, '서울시')\n",
    "p2 = Person2('이순신', 34, '김포시')\n",
    "p.get_info()\n",
    "p2.get_info()\n",
    "'''\n",
    "self 변수는 호출된 Instance 변수 객체 그 자체를 의미한다.\n",
    "메소드가 호출될 경우, 새로운 Heap 공간(instance 공간)이 생성되며, 이 공간에 self 변수가 생성된다.\n",
    "이후 메소드가 받은 변수(전역 변수)가 가지고 있는 주소(for instance 변수) 가 이곳에 저장되며 이를 토대로 계산이 실행된다.\n",
    "'''"
   ]
  },
  {
   "cell_type": "code",
   "execution_count": null,
   "metadata": {},
   "outputs": [],
   "source": []
  },
  {
   "cell_type": "markdown",
   "metadata": {
    "slideshow": {
     "slide_type": "slide"
    }
   },
   "source": [
    "## 상속 (Inheritance)\n",
    "\n",
    "-   기존 클래스를 확장하여 새로운 클래스를 구현한다.\n",
    "    -   생성된 객체(instance)가 기존 클래스에 정의된 Attribute나 method를 사용할 수있고 그 외의 추가적인 attribute와 method들을 가질 수 있는 클래스를 구현하는 방법.\n",
    "    -   같은 category의 클래스들을 하나로 묶어주는 역할을 한다.\n",
    "-   **기반(Base) 클래스, 상위(Super) 클래스, 부모(Parent) 클래스**\n",
    "    -   물려 주는 클래스.\n",
    "    -   상속하는 클래스에 비해 더 추상적인 클래스가 된다.\n",
    "    -   상속하는 클래스의 데이터 타입이 된다.\n",
    "-   **파생(Derived) 클래스, 하위(Sub) 클래스, 자식(Child) 클래스**\n",
    "    -   상속하는 클래스.\n",
    "    -   상속을 해준 클래스 보다 좀더 구체적인 클래스가 된다.\n",
    "-   상위 클래스와 하위 클래스는 계층관계를 이룬다.\n",
    "    -   상위 클래스는 하위 클래스 객체의 타입이 된다.\n",
    "-   다중상속\n",
    "    -   하나의 클래스가 여러 클래스를 상속받아 정의 하는 것을 다중상속이라고 하며 **파이썬은 다중상속이 가능하다.**\n",
    "-   MRO (Method Resolution Order)\n",
    "    -   다중상속시 메소드 호출할 때 그 메소드를 찾는 순서.\n",
    "    1. 자기 자신\n",
    "    2. 상위클래스(하위에서 상위로 올라간다)\n",
    "        - 다중상속의 경우 먼저 선언한 클래스 부터 찾는다. (왼쪽->오른쪽 / 왼쪽 부모 끝까지)\n",
    "        - 언제 먼저 찾느냐? 없는 이름의 메소드를 호출할 때\n",
    "-   MRO 순서 조회\n",
    "    -   Class이름.mro()\n",
    "-   `object` class\n",
    "    -   모든 클래스의 최상위 클래스\n",
    "    -   상속 하지 않은 클래스는 `object` 를 상속받는다.\n",
    "    -   special method, special attribute 를 정의 하고 있다.\n",
    "\n",
    "```python\n",
    "class Parent1:\n",
    "    ...\n",
    "\n",
    "class Parent2:\n",
    "    ...\n",
    "\n",
    "class Sub(Parent1, Parent1):\n",
    "    ...\n",
    "```\n"
   ]
  },
  {
   "cell_type": "code",
   "execution_count": 39,
   "metadata": {},
   "outputs": [
    {
     "name": "stdout",
     "output_type": "stream",
     "text": [
      "밥을 먹습니다.\n",
      "학교에 갑니다.\n"
     ]
    }
   ],
   "source": [
    "class Person():\n",
    "    def __init__(self):\n",
    "        pass\n",
    "    def eat(self):\n",
    "        print('밥을 먹습니다.')\n",
    "    def go(self, dest):\n",
    "        print(f'{dest}에 갑니다.')\n",
    "p = Person()\n",
    "p.eat()\n",
    "p.go('학교')"
   ]
  },
  {
   "cell_type": "code",
   "execution_count": 54,
   "metadata": {},
   "outputs": [
    {
     "name": "stdout",
     "output_type": "stream",
     "text": [
      "파이썬을(를) 공부합니다.\n"
     ]
    }
   ],
   "source": [
    "# Person을 상속하는 클래스 : Student, Teacher\n",
    "### 상속만 받으면 자식 클래스는 \n",
    "class Student(Person):\n",
    "    def study(self, subject):\n",
    "        print(f'{subject}을(를) 공부합니다.')\n",
    "\n",
    "class Teacher(Person):\n",
    "    def teach(self, subject):\n",
    "        print(f'{subject}을(를) 가르칩니다.')\n",
    "student1 = Student()\n",
    "teacher1 = Teacher()\n",
    "student1.study('파이썬')"
   ]
  },
  {
   "cell_type": "code",
   "execution_count": 53,
   "metadata": {
    "slideshow": {
     "slide_type": "fragment"
    }
   },
   "outputs": [
    {
     "data": {
      "text/plain": [
       "[]"
      ]
     },
     "execution_count": 53,
     "metadata": {},
     "output_type": "execute_result"
    }
   ],
   "source": [
    "Student.__bases__\n",
    "Student.__subclasses__()"
   ]
  },
  {
   "cell_type": "code",
   "execution_count": 92,
   "metadata": {},
   "outputs": [
    {
     "data": {
      "text/plain": [
       "[__main__.D, __main__.A, __main__.SuperA, __main__.B, __main__.C, object]"
      ]
     },
     "execution_count": 92,
     "metadata": {},
     "output_type": "execute_result"
    }
   ],
   "source": [
    "class SuperA:\n",
    "    pass\n",
    "\n",
    "class A(SuperA):\n",
    "    pass\n",
    "\n",
    "class B:\n",
    "    pass\n",
    "\n",
    "class C:\n",
    "    pass\n",
    "\n",
    "class D(A, B, C):\n",
    "    pass\n",
    "\n",
    "D.mro() # 자기 자신이 가장 먼저 / 최상위 뿌리인 object가 제일 마지막"
   ]
  },
  {
   "cell_type": "markdown",
   "metadata": {
    "slideshow": {
     "slide_type": "subslide"
    }
   },
   "source": [
    "### Method Overriding (메소드 재정의)\n",
    "\n",
    "상위 클래스에 정의한 메소드의 구현부를 하위 클래스에서 다시 구현하는 것.\n",
    "상위 클래스는 모든 하위 클래스들에 적용할 수 있는 추상적인 구현 밖에는 못한다.  \n",
    "하위 클래스에서 그 기능을 자신에 맞게 좀 더 구체적으로 재구현할 수 있게 해주는 것을 Method Overriding이라고 한다.\n",
    "\n",
    "-   방법: 메소드 선언은 동일하게 하고 구현부는 새롭게 구현한다.\n",
    "\n",
    "### super() 내장함수\n",
    "\n",
    "-   하위 클래스에서 **상위 클래스의 instance를** 사용할 수있도록 해주는 함수. 상위클래스에 정의된 instance 변수, 메소드를 호출할 때 사용한다.\n",
    "- 구조적으로 당연히 상위 클래스의 instance(현 클래스의 Attribute에 저장되어 있음)을 return 받아오는 '함수'이다.\n",
    "-   구문\n",
    "\n",
    "```python\n",
    "super().메소드명()\n",
    "```\n",
    "\n",
    "-   상위 클래스의 Instance 메소드를 호출할 때 – super().메소드()\n",
    "    -   특히 method overriding을 한 하위 클래스에서 상위 클래스의 원본 메소드를 호출 할 경우 반드시 `super().메소드() `형식으로 호출해야 한다.\n",
    "-   메소드에서\n",
    "    -   self.xxxx : 같은 클래스에 정의된 메소드나 attribute(instance 변수) 호출\n",
    "    -   super().xxxx : 부모클래스에 정의된 메소드나 attribute(부모객체의 attribute) 호출\n"
   ]
  },
  {
   "cell_type": "code",
   "execution_count": 60,
   "metadata": {
    "slideshow": {
     "slide_type": "fragment"
    }
   },
   "outputs": [
    {
     "name": "stdout",
     "output_type": "stream",
     "text": [
      "밥을 먹습니다.\n",
      "급식을 먹습니다.\n",
      "파이썬을(를) 공부합니다.\n",
      "식당밥을 먹습니다.\n",
      "수학을(를) 가르칩니다.\n",
      "김포에 갑니다.\n",
      "차를 타고 김포에 갑니다.\n"
     ]
    }
   ],
   "source": [
    "class Student(Person):\n",
    "    def eat(self):\n",
    "        super().eat()\n",
    "        print('급식을 먹습니다.')\n",
    "    def study(self, subject):\n",
    "        print(f'{subject}을(를) 공부합니다.')\n",
    "\n",
    "class Teacher(Person):\n",
    "    def eat(self):\n",
    "        print('식당밥을 먹습니다.')\n",
    "    def teach(self, subject):\n",
    "        print(f'{subject}을(를) 가르칩니다.')\n",
    "    def go(self, dest):\n",
    "        print(f'차를 타고 {dest}에 갑니다.')\n",
    "student1 = Student()\n",
    "teacher1 = Teacher()\n",
    "student1.eat()\n",
    "student1.study('파이썬')\n",
    "teacher1.eat()\n",
    "teacher1.teach('수학')\n",
    "student1.go('김포')\n",
    "teacher1.go('김포')"
   ]
  },
  {
   "cell_type": "code",
   "execution_count": null,
   "metadata": {},
   "outputs": [],
   "source": [
    "### Method Overriding을 할거면 부모 클래스에 메소드를 왜 만드냐?\n",
    "### 구조적인 특징을 만들어 같은 이름의 속성, 메소드를 공유하게 하기 위해서 !!!\n",
    "class Calculator:\n",
    "    def calculate(self, num1, num2): # Just for 구조 잡기\n",
    "        pass\n",
    "class Plus(Calculator):\n",
    "    def calculate(self, num1, num2):\n",
    "        덧셈 코드\n",
    "class Minus:\n",
    "    def calculate(self, num1, num2):\n",
    "        뺄셈 코드\n",
    "class Divide:\n",
    "    def calculate(self, num1, num2):\n",
    "        나눗셈 코드\n"
   ]
  },
  {
   "cell_type": "code",
   "execution_count": 86,
   "metadata": {},
   "outputs": [],
   "source": [
    "class Person:\n",
    "\n",
    "    def __init__(self, name, age):\n",
    "        self.name = name\n",
    "        self.age = age\n",
    "\n",
    "    def get_info(self):\n",
    "        return f'이름: {self.name}, 나이: {self.age}'"
   ]
  },
  {
   "cell_type": "code",
   "execution_count": null,
   "metadata": {},
   "outputs": [],
   "source": [
    "# Method Overriding은 메소드의 이름을 통합시키고, 부모 메소드의 기능과 동일한 부분을 스킵하기 위함이다.\n",
    "# super()은 부모 객체를 불러오는 메소드\n",
    "### super().__init__(param1, param2, ...) 도 당연히 부모 객체의 __init__ 방법을 빌려온건데 그에 해당하는 arguments를 넣어줘야지\n",
    "class Student(Person):\n",
    "\n",
    "    def __init__(self, name, age, grade):\n",
    "        # self.name = name\n",
    "        # self.age = age\n",
    "        super().__init__(name, age)\n",
    "        self.grade = grade\n",
    "\n",
    "    def get_info(self): # 내부에 있는 정보는 불러올 필요 없어\n",
    "        # return f'이름: {self.name}, 나이: {self.age}, 성적: {self.grade}'\n",
    "                                                                         return f'{super().get_info()}, 성적: {self.grade}'\n",
    "### f string 내에 {f string}이 포함될 수 있다 !!!"
   ]
  },
  {
   "cell_type": "code",
   "execution_count": 113,
   "metadata": {},
   "outputs": [
    {
     "name": "stdout",
     "output_type": "stream",
     "text": [
      "김학수 16 10\n",
      "김학수 16 10\n"
     ]
    }
   ],
   "source": [
    "# super().__init__()의 경우, 부모의 형식을 빌렸지만, self 객체가 자식 객체를 가리키고 있으므로 자식 객체 자체에 정보가 기록된다.\n",
    "# 따라서, 부모 클래스를 지워도 만들어졌던 객체에 대해서는 정보가 유효하다.\n",
    "s = Student('김학수', 16, 10)\n",
    "print(s.name, s.age, s.grade)\n",
    "s.get_info\n",
    "# del Person\n",
    "print(s.name, s.age, s.grade)"
   ]
  },
  {
   "cell_type": "code",
   "execution_count": 88,
   "metadata": {},
   "outputs": [
    {
     "name": "stdout",
     "output_type": "stream",
     "text": [
      "김정장 35 수학\n"
     ]
    },
    {
     "data": {
      "text/plain": [
       "'이름: 김정장, 나이: 35, 과목: 수학'"
      ]
     },
     "execution_count": 88,
     "metadata": {},
     "output_type": "execute_result"
    }
   ],
   "source": [
    "class Teacher(Person):\n",
    "    \n",
    "    def __init__(self, name, age, subject):\n",
    "        super().__init__(name, age)\n",
    "        self.subject = subject\n",
    "\n",
    "    def get_info(self):\n",
    "        return super().get_info() + f', 과목: {self.subject}'\n",
    "    \n",
    "t = Teacher('김정장', 35, '수학')\n",
    "print(t.name, t.age, t.subject)\n",
    "t.get_info()"
   ]
  },
  {
   "cell_type": "markdown",
   "metadata": {
    "slideshow": {
     "slide_type": "slide"
    }
   },
   "source": [
    "## 객체 관련 유용한 내장 함수, 특수 변수\n",
    "\n",
    "-   **`isinstance(객체, 클래스이름-datatype)`** : bool\n",
    "    -   객체가 두번째 매개변수로 지정한 클래스의 타입이면 True, 아니면 False 반환\n",
    "    -   여러개의 타입여부를 확인할 경우 class이름(type)들을 **튜플(tuple)로** 묶어 준다.\n",
    "    -   상위 클래스는 하위 클래스객체의 타입이 되므로 객체와 그 객체의 상위 클래스 비교시 True가 나온다. -> 후에 자식 클래스 추가가 자유로움.\n",
    "-   **`객체.__dict__`**\n",
    "    -   객체가 가지고 있는 Attribute 변수들과 대입된 값을 dictionary에 넣어 반환 / 이미 이 꼴로 속성(데이터)값을 가지고 있는 거임.\n",
    "-   **`객체.__bases__`**\n",
    "    -   객체가 가지고 있는 부모 클래스를 속성에서 찾아 반환하기\n",
    "-   **`객체.__subclasses()__`**\n",
    "    -   객체가 가지고 있는 하위 클래스를 속성에 없기에, 메소드를 통해 반환해오기 "
   ]
  },
  {
   "cell_type": "code",
   "execution_count": 94,
   "metadata": {},
   "outputs": [
    {
     "data": {
      "text/plain": [
       "True"
      ]
     },
     "execution_count": 94,
     "metadata": {},
     "output_type": "execute_result"
    }
   ],
   "source": [
    "a = 10\n",
    "type(a) == int"
   ]
  },
  {
   "cell_type": "code",
   "execution_count": 95,
   "metadata": {},
   "outputs": [
    {
     "data": {
      "text/plain": [
       "True"
      ]
     },
     "execution_count": 95,
     "metadata": {},
     "output_type": "execute_result"
    }
   ],
   "source": [
    "### 만약 어떠한 기준에 의해 무언가를 할 때 그 기준이 '클래스 해당 여부'라면\n",
    "isinstance(a, int)"
   ]
  },
  {
   "cell_type": "code",
   "execution_count": 96,
   "metadata": {},
   "outputs": [
    {
     "data": {
      "text/plain": [
       "False"
      ]
     },
     "execution_count": 96,
     "metadata": {},
     "output_type": "execute_result"
    }
   ],
   "source": [
    "a = 3.1334\n",
    "a = 'aaaa'\n",
    "isinstance(a, (int, float)) # 튜플이어야해"
   ]
  },
  {
   "cell_type": "code",
   "execution_count": 97,
   "metadata": {},
   "outputs": [
    {
     "name": "stdout",
     "output_type": "stream",
     "text": [
      "Help on built-in function isinstance in module builtins:\n",
      "\n",
      "isinstance(obj, class_or_tuple, /)\n",
      "    Return whether an object is an instance of a class or of a subclass thereof.\n",
      "\n",
      "    A tuple, as in ``isinstance(x, (A, B, ...))``, may be given as the target to\n",
      "    check against. This is equivalent to ``isinstance(x, A) or isinstance(x, B)\n",
      "    or ...`` etc.\n",
      "\n"
     ]
    }
   ],
   "source": [
    "help(isinstance)"
   ]
  },
  {
   "cell_type": "code",
   "execution_count": 106,
   "metadata": {},
   "outputs": [
    {
     "name": "stdout",
     "output_type": "stream",
     "text": [
      "X\n"
     ]
    }
   ],
   "source": [
    "# isinstance()와 공통 부모 클래스를 활용한 check\n",
    "def check_person(p:Teacher | Student):\n",
    "    # info = p.get_info() \n",
    "    # print(info)\n",
    "\n",
    "    # print(p.get_info()) if isinstance(p, (Teacher, Student)) else print('X')\n",
    "\n",
    "    print(p.get_info()) if isinstance(p, Person) else print('X')\n",
    "\n",
    "check_person(123)"
   ]
  },
  {
   "cell_type": "code",
   "execution_count": 110,
   "metadata": {},
   "outputs": [
    {
     "name": "stdout",
     "output_type": "stream",
     "text": [
      "이름: 감학동, 나이: 30\n",
      "이름: 김학수, 나이: 16, 성적: 10\n",
      "이름: 김정장, 나이: 35, 과목: 수학\n"
     ]
    }
   ],
   "source": [
    "class Employee(Person):\n",
    "    def __init__(self, name, age, dept):\n",
    "        super().__init__(name, age) # 아직 self는 Employee, 그저 super()의 메소드를 빌려올 뿐\n",
    "        self.dept = dept\n",
    "e = Employee('감학동', 30, '총무부')\n",
    "check_person(e)\n",
    "check_person(s)\n",
    "check_person(t)\n",
    "# 하나의 형태로 다양한 종류의 결과를 얻는 이게 다형성이다.\n",
    "# 이를 통해 추가, 수정 등의 작업이 자유롭다 !!!!"
   ]
  },
  {
   "cell_type": "markdown",
   "metadata": {
    "slideshow": {
     "slide_type": "slide"
    }
   },
   "source": [
    "## 특수 메소드(Special method)\n",
    "\n",
    "### 특수 메소드란\n",
    "\n",
    "-   파이썬 실행환경(Python runtime)이 객체와 관련해서 **특정 상황** 발생하면 호출 하도록 정의한 메소드들. 그 특정상황에서 처리해야 할 일이 있으면 구현을 재정의 한다.\n",
    "    -   객체에 특정 기능들을 추가할 때 사용한다.\n",
    "    -   정의한 메소드와 그것을 호출하는 함수가 다르다.\n",
    "        -   ex) `__init__()` => **객체 생성할 때** 호출 된다.\n",
    "-   메소드 명이 더블 언더스코어로 시작하고 끝난다.\n",
    "    -   ex) `__init__(), __str__()`\n",
    "-   매직 메소드(Magic Method), 던더(DUNDER) 메소드라고도 한다.\n",
    "-   특수메소드 종류\n",
    "    -   https://docs.python.org/ko/3/reference/datamodel.html#special-method-names\n"
   ]
  },
  {
   "cell_type": "markdown",
   "metadata": {
    "slideshow": {
     "slide_type": "subslide"
    }
   },
   "source": [
    "### 주요 특수메소드\n",
    "\n",
    "-   **`__init__(self [, …])`**\n",
    "    -   Initializer\n",
    "    -   객체 생성시 호출 된다.\n",
    "    -   객체 생성시 Attribute의 값들을 초기화하는 것을 구현한다.\n",
    "    -   self 변수로 받은 instance에 Attribute를 설정한다.\n",
    "-   **`__call__(self [, …])`**\n",
    "    -   객체를 함수처럼 호출 하면 실행되는 메소드\n",
    "    -   Argument를 받을 Parameter 변수는 self 변수 다음에 필요한대로 선언한다.\n",
    "    -   처리결과를 반환하도록 구현할 경우 `return value` 구문을 넣는다. (필수는 아니다.)\n",
    "    -   ㅁㅊ;;; 함수가 대표적인 callable class이고, 대표적인 함수가 메소드였어;;;\n"
   ]
  },
  {
   "cell_type": "markdown",
   "metadata": {
    "slideshow": {
     "slide_type": "subslide"
    }
   },
   "source": [
    "-   **`__str__(self)`**\n",
    "    -   Instance(객체)의 Attribute들을 묶어서 문자열로 반환한다.\n",
    "    -   내장 함수 **str(객체)** 호출할 때 이 메소드가 호출 된다.\n",
    "        -   str() 호출할 때 객체에 `__str__()`의 정의 안되 있으면 `__repr__()` 을 호출한다. `__repr__()`도 없으면 상위클래스에 정의된 `__str__()`을 호출한다.\n",
    "        -   print() 함수는 값을 문자열로 변환해서 출력한다. 이때 그 값을 str() 에 넣어 문자열로 변환한다.\n"
   ]
  },
  {
   "cell_type": "markdown",
   "metadata": {
    "slideshow": {
     "slide_type": "subslide"
    }
   },
   "source": [
    "#### 연산자 재정의(Operator overriding) 관련 특수 메소드\n",
    "\n",
    "-   연산자의 피연산자로 객체를 사용하면 호출되는 메소드들\n",
    "-   다항연산자일 경우 가장 왼쪽의 객체에 정의된 메소드가 호출된다.\n",
    "    -   `a + b` 일경우 a의 `__add__()` 가 호출된다.\n",
    "-   **비교 연산자**\n",
    "    -   **`__eq__(self, other)`** : self == other\n",
    "        -   == 로 객체의 내용을 비교할 때 정의 한다.\n",
    "    -   **`__lt__(self, other)`** : self < other,\n",
    "    -   **`__gt__(self, other)`**: self > other\n",
    "        -   min()이나 max()에서 인수로 사용할 경우 정의해야 한다.\n",
    "    -   **`__le__(self, other)`**: self <= other\n",
    "    -   **`__ge__(self, other)`**: self >= other\n",
    "    -   **`__ne__(self, other)`**: self != other\n",
    "    - __ne__의 경우 __eq__의 기본적으로 따로 정의되지 않으면 반대로 작동하게 된다.\n"
   ]
  },
  {
   "cell_type": "markdown",
   "metadata": {
    "slideshow": {
     "slide_type": "fragment"
    }
   },
   "source": [
    "-   **산술 연산자**\n",
    "    -   **`__add__(self, other)`**: self + other\n",
    "    -   **`__sub__(self, other)`**: self - other\n",
    "    -   **`__mul__(self, other)`**: self \\* other\n",
    "    -   **`__truediv__(self, other)`**: self / other\n",
    "    -   **`__floordiv__(self, other)`**: self // other\n",
    "    -   **`__mod__(self, other)`**: self % other\n"
   ]
  },
  {
   "cell_type": "code",
   "execution_count": 155,
   "metadata": {
    "slideshow": {
     "slide_type": "fragment"
    }
   },
   "outputs": [
    {
     "name": "stdout",
     "output_type": "stream",
     "text": [
      "객체가 생성되었습니다.\n"
     ]
    }
   ],
   "source": [
    "class Person:\n",
    "\n",
    "    def __init__(self, name, age):\n",
    "        \"\"\"\n",
    "        __init__() : 객체를 생성하는 시점에 자동으로 호출된다. -> instance 변수 초기화\n",
    "        \"\"\"\n",
    "        self.name = name\n",
    "        self.age = age\n",
    "        print('객체가 생성되었습니다.')\n",
    "\n",
    "    def __str__(self):\n",
    "        '''\n",
    "        str(객체) : 객체를 str으로 변환하는 코드를 작성해준다. -> 보통 의미있는 str, 곧 attribute들을 모아서 문자열로 반환\n",
    "        ex) str(p) -> p.__str__() 가 불려옴\n",
    "        '''\n",
    "        return f'name: {self.name}, age: {self.age}'\n",
    "    \n",
    "    ## 연산자 재정의 특수 메소드들을 재정의\n",
    "    ### == 비교시 호출되는 메소드\n",
    "    def __eq__(self, obj):\n",
    "        # p1 == p4 -> self:p1, obj:p4 -> pq.__eq__(p4) 가 됨\n",
    "        # print('__eq__() 호출된 거 맞음', f'obj:{obj}')\n",
    "        # return True\n",
    "        if not isinstance(obj, Person): return False\n",
    "        # if self.__str__() != obj.__str__(): return False\n",
    "        if self.name != obj.name or self.age != obj.age: return False\n",
    "        else: return True\n",
    "\n",
    "    def __gt__(self, obj):\n",
    "        if not isinstance(obj, Person): print('잘못된 비교입니다.')\n",
    "        return True if self.age > obj.age else False\n",
    "    \n",
    "    def __ne__(self, obj):\n",
    "        print('__ne__() 호출된 것 맞습니당~')\n",
    "        \n",
    "\n",
    "p = Person('이순신', 30)"
   ]
  },
  {
   "cell_type": "code",
   "execution_count": 156,
   "metadata": {},
   "outputs": [
    {
     "name": "stdout",
     "output_type": "stream",
     "text": [
      "name: 이순신, age: 30\n"
     ]
    }
   ],
   "source": [
    "# print() 함수는 값을 str로 변환해서 찍어주는 함수이다.\n",
    "# 따라서 print()에 class를 넣으면 class.__str__() 함수가 호출된다.\n",
    "print(p)"
   ]
  },
  {
   "cell_type": "code",
   "execution_count": 157,
   "metadata": {},
   "outputs": [
    {
     "name": "stdout",
     "output_type": "stream",
     "text": [
      "객체가 생성되었습니다.\n",
      "객체가 생성되었습니다.\n",
      "객체가 생성되었습니다.\n",
      "False\n",
      "__ne__() 호출된 것 맞습니당~\n",
      "None\n",
      "False\n",
      "p1 > p3 ? : False\n"
     ]
    }
   ],
   "source": [
    "p1 = Person('이순신', 30)\n",
    "p2 = Person('홍길동', 15)\n",
    "p3 = Person('이순신', 30)\n",
    "print(p1 == p2) # 같은 값인지를 확인하는 연산자, 클래스의 경우 그 object(객체) 값이 다르기에 다르다고 뜬다. -> 이게 클래스에서의 '값'\n",
    "print(p1 != p3) # == 에 대한 .__eq__()의 정의에 따라 같게 나올수도 있다.\n",
    "print(p1 is p3) # is 연산자는 literally Heap 공간 내 같은 객체를 의미하느냐\n",
    "p1 # <__main__.Person at 0x2b678ae0a10>\n",
    "p3 # <__main__.Person at 0x2b677c4faa0>\n",
    "print('p1 > p3 ? :', p1 > p3)"
   ]
  },
  {
   "cell_type": "code",
   "execution_count": 140,
   "metadata": {},
   "outputs": [
    {
     "data": {
      "text/plain": [
       "False"
      ]
     },
     "execution_count": 140,
     "metadata": {},
     "output_type": "execute_result"
    }
   ],
   "source": [
    "p.__eq__(10)\n",
    "p == 50"
   ]
  },
  {
   "cell_type": "code",
   "execution_count": 161,
   "metadata": {},
   "outputs": [
    {
     "data": {
      "text/plain": [
       "210"
      ]
     },
     "execution_count": 161,
     "metadata": {},
     "output_type": "execute_result"
    }
   ],
   "source": [
    "### Callable Class 구현하기\n",
    "# 내부에 구현하는 함수(메소드)가 오직 하나일 때, 보통 편의성을 위해 해당 클래스를 Callable 하게 만든다.\n",
    "class Plus_200:\n",
    "\n",
    "    def __init__(self, num):\n",
    "        self.num = num\n",
    "\n",
    "    def __call__(self, num):\n",
    "        return self.num + num\n",
    "\n",
    "plus = Plus_200(200)\n",
    "plus(10) # 그저 함수가 만들어졌어 !!\n",
    "\n",
    "# 함수 클래스는 def 예약어를 통해 만들어지는데 이는 함수 클래스 내에서 지정된 것이 아니라 파이썬 인터프리터 상에서 지정되어 있는 것이다."
   ]
  },
  {
   "cell_type": "markdown",
   "metadata": {
    "slideshow": {
     "slide_type": "slide"
    }
   },
   "source": [
    "# class변수, class 메소드\n",
    "\n",
    "-   **class변수**\n",
    "    -   (Intance가 아닌) 클래스 자체의 데이터\n",
    "    -   Attribute가 객체별로 생성된다면, class변수는 클래스당 하나가 생성된다.\n",
    "    -   구현\n",
    "        -   class 블럭에 변수 선언.\n",
    "    - class 내에서 parameter를 받지 않고 내부에서 지정되는 변수\n",
    "-   **class 메소드**\n",
    "    -   클래스 변수를 처리하는 메소드\n",
    "    -   구현\n",
    "        -   @classmethod 데코레이터를 붙인다.\n",
    "        -   첫번째 매개변수로 클래스를 받는 변수를 선언한다. 이 변수를 이용해 클래스 변수나 다른 클래스 메소드를 호출 한다.\n"
   ]
  },
  {
   "cell_type": "markdown",
   "metadata": {
    "slideshow": {
     "slide_type": "fragment"
    }
   },
   "source": [
    "## class 메소드/변수 호출\n",
    "\n",
    "-   클래스이름.변수\n",
    "-   클래스이름.메소드()\n"
   ]
  },
  {
   "cell_type": "code",
   "execution_count": 168,
   "metadata": {
    "slideshow": {
     "slide_type": "fragment"
    }
   },
   "outputs": [
    {
     "data": {
      "text/plain": [
       "['학생직장인', '자영업']"
      ]
     },
     "execution_count": 168,
     "metadata": {},
     "output_type": "execute_result"
    }
   ],
   "source": [
    "# 클래스 변수와 클래스 메소드\n",
    "\n",
    "class Person:\n",
    "\n",
    "    '''여기가 클래스 변수 / 메소드 자리'''\n",
    "    job_list = ['학생' '직장인', '자영업']\n",
    "    var1 = 20\n",
    "\n",
    "    @classmethod # 데코레이터. \"얘가 클래스 메소드에요\". -> 이후 self / cls 자리가 cls임을 알 수 있음.\n",
    "    def add_job(cls, job):\n",
    "        # job이 job_list에 없으면 append\n",
    "        if job not in cls.job_list:  # 얘도 지역 변수는 아니기때문에 참조를 해서 job_list를 불러와야해\n",
    "            cls.job_list.append(job)\n",
    "        else:\n",
    "            print(f'{job}은 이미 list에 있습니다.')\n",
    "\n",
    "    def __init__(self, name, age, job):\n",
    "        self.name = name\n",
    "        self.age = age\n",
    "        self.job = job\n",
    "\n",
    "    def __str__(self):\n",
    "        return f'이름: {self.name}, 나이: {self.age}, 직업: {self.job}'\n",
    "    \n",
    "Person.job_list\n",
    "# Person.name # __init__() 에 들어가 있는건 객체한테 줄 아이들이야. 클래스 자체 꺼는 아니야."
   ]
  },
  {
   "cell_type": "code",
   "execution_count": 169,
   "metadata": {},
   "outputs": [],
   "source": [
    "Person.add_job('사업')"
   ]
  },
  {
   "cell_type": "code",
   "execution_count": 173,
   "metadata": {},
   "outputs": [
    {
     "name": "stdout",
     "output_type": "stream",
     "text": [
      "sdf은 이미 list에 있습니다.\n",
      "['학생직장인', '자영업', '사업', 'sdf']\n"
     ]
    },
    {
     "data": {
      "text/plain": [
       "['학생직장인', '자영업', '사업', 'sdf']"
      ]
     },
     "execution_count": 173,
     "metadata": {},
     "output_type": "execute_result"
    }
   ],
   "source": [
    "a = Person('df', 20, 'asdf')\n",
    "a.add_job('sdf') # 객체를 통해서도 속하는 클래스의 변수나 메소드에 접근할 수 있어\n",
    "print(Person.job_list)\n",
    "a.job_list"
   ]
  },
  {
   "cell_type": "code",
   "execution_count": null,
   "metadata": {},
   "outputs": [],
   "source": []
  }
 ],
 "metadata": {
  "kernelspec": {
   "display_name": "base",
   "language": "python",
   "name": "python3"
  },
  "language_info": {
   "codemirror_mode": {
    "name": "ipython",
    "version": 3
   },
   "file_extension": ".py",
   "mimetype": "text/x-python",
   "name": "python",
   "nbconvert_exporter": "python",
   "pygments_lexer": "ipython3",
   "version": "3.12.7"
  },
  "toc": {
   "base_numbering": 1,
   "nav_menu": {},
   "number_sections": true,
   "sideBar": true,
   "skip_h1_title": false,
   "title_cell": "Table of Contents",
   "title_sidebar": "Contents",
   "toc_cell": false,
   "toc_position": {},
   "toc_section_display": true,
   "toc_window_display": false
  },
  "varInspector": {
   "cols": {
    "lenName": 16,
    "lenType": 16,
    "lenVar": 40
   },
   "kernels_config": {
    "python": {
     "delete_cmd_postfix": "",
     "delete_cmd_prefix": "del ",
     "library": "var_list.py",
     "varRefreshCmd": "print(var_dic_list())"
    },
    "r": {
     "delete_cmd_postfix": ") ",
     "delete_cmd_prefix": "rm(",
     "library": "var_list.r",
     "varRefreshCmd": "cat(var_dic_list()) "
    }
   },
   "types_to_exclude": [
    "module",
    "function",
    "builtin_function_or_method",
    "instance",
    "_Feature"
   ],
   "window_display": false
  }
 },
 "nbformat": 4,
 "nbformat_minor": 4
}
