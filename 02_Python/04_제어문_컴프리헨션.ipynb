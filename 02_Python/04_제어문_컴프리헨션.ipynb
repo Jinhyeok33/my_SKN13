{
 "cells": [
  {
   "cell_type": "markdown",
   "id": "8c49cd8e",
   "metadata": {
    "slideshow": {
     "slide_type": "slide"
    }
   },
   "source": [
    "# 제어문(Control flow statement)\n",
    "\n",
    "기본적으로 프로그램은 순차구조를 가진다. 즉 작성한 순서대로 실행이 된다.  \n",
    "이런 실행흐름을 다른 순서로 제어하기 위한 구문을 만드는 문법이 제어문이다.  \n",
    "제어문은 **조건문** 과 **반복문** 두가지 문법이 있다.\n",
    "\n",
    "-   **조건문**\n",
    "    -   if 문\n",
    "-   **반복문**\n",
    "    -   while 문\n",
    "    -   for in 문\n"
   ]
  },
  {
   "cell_type": "markdown",
   "id": "92c502ce",
   "metadata": {
    "slideshow": {
     "slide_type": "slide"
    }
   },
   "source": [
    "# 조건문/분기문 (conditional statement)\n",
    "\n",
    "-   프로그램이 명령문들을 실행하는 도중 특정 순서에서 **조건에 따라 흐름의 나눠져야 하는 경우 사용한다**\n",
    "-   파이썬은 조건문으로 **if문**이 있다.\n",
    "\n",
    "![조건문](images/ch03_01.png)\n",
    "\n",
    "<center>입력 받은 a 의 값이 0인지 여부에 따라 두가지 흐름으로 분기된다.</center>\n"
   ]
  },
  {
   "cell_type": "markdown",
   "id": "2a3c1835",
   "metadata": {
    "slideshow": {
     "slide_type": "subslide"
    }
   },
   "source": [
    "## 구문\n",
    "\n",
    "-   조건이 True일 경우만 특정 구문들을 실행 하는 조건문.\n",
    "\n",
    "```python\n",
    "if 조건:    # 조건은 bool 표현식을 기술한다. 조건선언 다음에 : 으로 선언해서 코드블록을 구분한다.\n",
    "    명령문1  # 조건이 True이면 실행할 구문들을 코드블럭에 기술한다.\n",
    "    명령문2  # 코드 블록은 들여쓰기를 이용해 묶어준다. 보통 공백 4칸으로 들여쓰기를 한다.\n",
    "    ...\n",
    "```\n",
    "\n",
    "> ### 파이썬의 코드블록(code block)\n",
    ">\n",
    "> 코드블록이란 **여러 명령문들을 묶어놓은 것을** 말한다. 코드블록으로 묶이면 실행시 같이 다 실행되고 실행이 안되면 같이 다 실행이 안된다.  \n",
    "> 파이썬에서는 코드블록을 작성할 때 **들여쓰기를 이용해 묶어준다.**  \n",
    "> 같은 칸만큼 들여쓰기를 한 명령문들이 같은 블록으로 묶인다.\n",
    "> 들여쓰기는 관례적으로 **공백 4칸을** 사용한다.\n",
    "\n",
    "> ### pass 키워드(예약어)\n",
    ">\n",
    "> -   빈 구현부를 만들때 사용\n",
    ">     -   제어문, 함수의 body 코드블럭은 비울 수 없다. 반드시 명령문을 한개 이상 작성해야한다.\n",
    ">     -   작성할 내용이 없을 경우 사용하는 키워드로 `pass`를 사용한다.\n"
   ]
  },
  {
   "cell_type": "code",
   "execution_count": 7,
   "id": "9aa311a5",
   "metadata": {
    "slideshow": {
     "slide_type": "fragment"
    }
   },
   "outputs": [
    {
     "ename": "SyntaxError",
     "evalue": "invalid syntax (1747921093.py, line 3)",
     "output_type": "error",
     "traceback": [
      "\u001b[1;36m  Cell \u001b[1;32mIn[7], line 3\u001b[1;36m\u001b[0m\n\u001b[1;33m    \"영입니다.\" if num == 0 else pass:\u001b[0m\n\u001b[1;37m                             ^\u001b[0m\n\u001b[1;31mSyntaxError\u001b[0m\u001b[1;31m:\u001b[0m invalid syntax\n"
     ]
    }
   ],
   "source": [
    "num = int(input(\"정수:\"))\n",
    "# num이 0이면 \"영입니다.\"를 출력\n",
    "\"영입니다.\" if num == 0 else pass # List comprehension의 if문의 경우 양쪽 출력문 둘 다 필요."
   ]
  },
  {
   "cell_type": "markdown",
   "id": "09c79c35",
   "metadata": {
    "slideshow": {
     "slide_type": "subslide"
    }
   },
   "source": [
    "-   **조건이 True일 때 False일때 실행 구문이 분기되는 조건문.**\n",
    "\n",
    "```python\n",
    "if 조건:\n",
    "    명령문1_1 # 조건이 True일 경우 실행할 구문들\n",
    "    명령문1_2\n",
    "    ...\n",
    "else:\n",
    "    명령문2_1 # 조건이 False일 경우 실행할 구문들\n",
    "    명령문2_2\n",
    "    ...\n",
    "```\n"
   ]
  },
  {
   "cell_type": "code",
   "execution_count": 8,
   "id": "87b51956",
   "metadata": {
    "slideshow": {
     "slide_type": "fragment"
    }
   },
   "outputs": [
    {
     "name": "stdout",
     "output_type": "stream",
     "text": [
      ">>>정수: 332\n"
     ]
    },
    {
     "name": "stdout",
     "output_type": "stream",
     "text": [
      "입력받은 숫자: 332\n"
     ]
    }
   ],
   "source": [
    "num = int(input(\">>>정수:\"))\n",
    "if num == 0:\n",
    "    print('영입니다.')\n",
    "    print('This is zero.')\n",
    "else:\n",
    "    print(f'입력받은 숫자: {num}')"
   ]
  },
  {
   "cell_type": "markdown",
   "id": "621eae9a",
   "metadata": {
    "slideshow": {
     "slide_type": "subslide"
    }
   },
   "source": [
    "-   **조건이 여러 개인 조건문.**\n",
    "\n",
    "```python\n",
    "if 조건1:\n",
    "    명령문1_1  # 조건1이 True일 경우 실행할 코드블록.\n",
    "    명령문1_2\n",
    "    ...\n",
    "elif 조건2:    # 다음 조건으로 앞의 조건들이 모드 False일 경우 비교한다.\n",
    "    명령문2_1  # 조건2가 True일 경우 실행할 코드블록.\n",
    "    명령문2_2\n",
    "    ...\n",
    "elif 조건3 :\n",
    "    명령문3_1\n",
    "    명령문3_2\n",
    "    ...\n",
    "else:         # 위의 모든 조건이 False일 경우 실행하는 코드블록. 생략 가능하다.\n",
    "    명령문4\n",
    "```\n"
   ]
  },
  {
   "cell_type": "code",
   "execution_count": null,
   "id": "4c6a532d",
   "metadata": {
    "slideshow": {
     "slide_type": "fragment"
    }
   },
   "outputs": [],
   "source": []
  },
  {
   "cell_type": "markdown",
   "id": "2149b728",
   "metadata": {
    "slideshow": {
     "slide_type": "slide"
    }
   },
   "source": [
    "# 반복문 (Loop statement)\n",
    "\n",
    "특정 구문들을 반복해서 실행할 때 사용한다. 동일한 코드를 여러번 반복하거나 값이 일정하게 변하는 코드를 반복할 경우 사용한다.  \n",
    "단순 반복을 처리하는 **while문**과 iterable객체가 제공하는 값들을 반복 조회하는 **for in문** 두가지 문법이 있다.\n",
    "\n",
    "![반복문](images/ch03_02.png)\n",
    "\n",
    "<center>count의 값이 limit의 값보다 크거나 같을때 까지 count의 값을 1증가 후 출력하는 구문을 반복한다. </center>\n"
   ]
  },
  {
   "cell_type": "markdown",
   "id": "b4740a36",
   "metadata": {
    "slideshow": {
     "slide_type": "subslide"
    }
   },
   "source": [
    "## while문\n",
    "\n",
    "-   조건이 True인 동안 구문을 반복해서 실행한다.\n",
    "\n",
    "### 구문\n",
    "\n",
    "```python\n",
    "while 조건:       # 조건은 bool 표현식을 기술한다. 조건선언 다음에 : 으로 선언해서 코드블록을 구분한다\n",
    "    반복할 구문1  # 반복할 구문을 코드블록으로 작성한다.\n",
    "    반복할 구문2\n",
    "    ...\n",
    "```\n"
   ]
  },
  {
   "cell_type": "code",
   "execution_count": null,
   "id": "6b11bde6",
   "metadata": {
    "slideshow": {
     "slide_type": "fragment"
    }
   },
   "outputs": [],
   "source": [
    "count = 0\n",
    "limit = 10\n",
    "while count < limit:\n",
    "    print(\"안녕하세요.\")\n"
   ]
  },
  {
   "cell_type": "markdown",
   "id": "04f12e55",
   "metadata": {
    "slideshow": {
     "slide_type": "subslide"
    }
   },
   "source": [
    "## for in 문\n",
    "\n",
    "-   Iterable 객체를 순환조회하는 구문\n",
    "    -   for in문은 Iterable 타입의 객체가 가지고 있는 값들을 하나씩 처리하는 구문을 작성할 때 사용한다.\n",
    "\n",
    "> -   **Iterable**\n",
    ">     -   반복가능한 객체. 반복문(for in)을 이용해 일련의 값들을 반복적으로 각각 제공하는 객체를 말한다.\n",
    ">     -   대표적으로 List, Tuple, Dictionary, Set, 문자열 등이 있다.\n",
    "\n",
    "### 구문\n",
    "\n",
    "```python\n",
    "for 변수 in Iterable: # for in 선언후 : 으로 선언부와 구현부를 나눈다.\n",
    "    반복구문          # Iterable이 반복시 제공하는 값을 가지는 \"변수\"를 이용해 값들을 처리하는 구문을 코드블록으로 작성한다.\n",
    "    반복구문\n",
    "```\n"
   ]
  },
  {
   "cell_type": "code",
   "execution_count": null,
   "id": "da0ce0f6",
   "metadata": {
    "slideshow": {
     "slide_type": "fragment"
    }
   },
   "outputs": [],
   "source": []
  },
  {
   "cell_type": "markdown",
   "id": "1f30cd6f",
   "metadata": {
    "slideshow": {
     "slide_type": "subslide"
    }
   },
   "source": [
    "## continue와 break를 이용한 반복문 제어\n",
    "\n",
    "-   **continue**\n",
    "    -   실행 블록에서 continue가 실행되면 현재 반복을 중단하고 다음 반복을 진행한다.\n",
    "    -   특정 조건에서 처리를 멈추고 다음 처리를 반복할 때 사용한다.\n",
    "-   **break**\n",
    "    -   반복문 실행을 중단한다.\n",
    "    -   특정 조건에서 반복문을 중간에 중지할때 사용한다.\n",
    "-   continue와 break는 특정 조건에서 실행되야 하는 경우가 대부분이므로 if문 안에 작성한다.\n"
   ]
  },
  {
   "cell_type": "code",
   "execution_count": 5,
   "id": "90c41e9f",
   "metadata": {
    "slideshow": {
     "slide_type": "fragment"
    }
   },
   "outputs": [
    {
     "name": "stdout",
     "output_type": "stream",
     "text": [
      "[96, 93, 90, 64, 66, 50, 93, 29, 6, 6, 67, 83, 75, 5, 53, 18, 87, 1, 68, 65, 20, 86, 74, 77, 13, 64, 54, 32, 54, 96, 3, 80, 51, 29, 30, 34, 24, 9, 66, 15, 21, 11, 47, 90, 23, 10, 9, 59, 95, 52, 71, 72, 61, 36, 95, 93, 34, 12, 63, 50, 6, 29, 29, 22, 35, 12, 94, 12, 10, 52, 58, 90, 50, 5, 48, 59, 18, 4, 1, 19, 5, 9, 83, 14, 14, 27, 9, 10, 58, 90, 82, 69, 96, 32, 92, 69, 93, 52, 77, 74, 95, 62, 49, 25, 93, 96, 27, 70, 12, 77, 68, 60, 52, 93, 44, 92, 48, 26, 72, 46, 26, 96, 100, 6, 38, 28, 84, 43, 73, 37, 83, 25, 11, 97, 67, 51, 67, 48, 68, 65, 46, 64, 100, 18, 61, 58, 31, 8, 68, 10, 81, 17, 94, 77, 13, 20, 40, 96, 2, 78, 74, 7, 40, 84, 12, 59, 29, 6, 96, 54, 42, 96, 55, 17, 32, 61, 1, 15, 11, 70, 100, 28, 17, 100, 75, 94, 85, 25, 9, 39, 70, 35, 41, 28, 90, 53, 6, 85, 12, 34, 3, 74, 68, 85, 31, 87, 34, 23, 6, 67, 55, 15, 64, 47, 73, 83, 96, 74, 7, 61, 15, 71, 21, 86, 80, 15, 97, 54, 42, 13, 85, 24, 73, 62, 92, 44, 15, 79, 89, 9, 41, 91, 20, 28, 100, 85, 36, 20, 43, 43, 21, 94, 71, 4, 96, 59, 40, 90, 51, 88, 28, 71, 64, 52, 84, 30, 19, 17, 91, 80, 32, 18, 38, 15, 60, 79, 86, 46, 75, 57, 64, 29, 64, 36, 21, 62, 9, 90, 51, 88, 16, 48, 13, 38, 11, 86, 22, 32, 3, 46, 49, 47, 68, 9, 7, 37, 45, 64, 89, 33, 57, 13, 52, 25, 61, 35, 40, 60, 10, 98, 53, 72, 72, 92, 22, 99, 85, 47, 13, 88, 60, 37, 18, 7, 38, 57, 44, 65, 79, 9, 5, 64, 76] [-28, -76, -75, -69, -48, -70, -35, -16, -71, -1, -54, -74, -22, -61, -66, -71, -78, -90, -88, -86, -36, -91, -23, -5, -52, -22, -31, -79, -83, -24, -14, -81, -25, -27, -43, -77, -37, -50, -19, -47, -16, -24, -38, -36, -42, -6, -39, -94, -64, -20, -49, -71, -31, -5, -52, -55, -67, -24, -53, -65, -39, -86, -4, -10, -36, -75, -17, -42, -70, -26, -50, -15, -37, -86, -69, -50, -21, -49, -81, -84, -80, -25, -37, -65, -35, -49, -5, -89, -67, -60, -57, -14, -54, -12, -31, -54, -38, -9, -69, -84, -4, -1, -50, -75, -84, -15, -69, -93, -83, -45, -28, -83, -69, -57, -70, -77, -2, -60, -40, -29, -75, -36, -17, -23, -66, -80, -28, -52, -21, -79, -73, -17, -31, -93, -25, -83, -17, -14, -84, -18, -38, -94, -63, -50, -41, -79, -76, -63, -66, -55, -100, -51, -10, -3, -18, -47, -52, -72, -90, -97, -37, -57, -21, -98, -90, -69, -91, -56, -83, -45, -13, -32, -3, -71, -27, -91, -56, -57, -25, -49, -72, -13, -28, -6, -54, -98, -69, -51, -36, -67, -69, -63, -25, -53, -2, -41, -74, -73, -76, -76, -55, -31, -81, -24, -55, -70, -4, -67, -77, -86, -7, -91, -34, -83, -62, -55, -26, -53, -27, -9, -62, -30, -76, -29, -74, -91, -58, -27, -22, -53, -20, -6, -8, -81, -60, -47, -92, -37, -65, -61, -50, -65, -64, -47, -41, -41, -30, -65, -26, -71, -15, -4, -36, -54, -54, -34, -63, -83, -90, -54, -74, -61, -2, -70, -32, -86, -79, -37, -81, -80, -60, -3, -14, -77, -11, -43, -18, -71, -72, -25, -92, -80, -47, -8, -44, -71, -51, -73, -11, -29, -32, -40, -100, -99, -4, -74, -57, -71, -86, -52, -68, -1, -22, -22, -2, -82, -19, -95, -44, -58, -19, -75, -2, -51, -6, -44, -44, -18, -69, -29, -95, -38, -98, -31, -61, -31, -99, -83]\n"
     ]
    }
   ],
   "source": [
    "# -100 ~ 100 범위에 정수 난수를 생성\n",
    "# 생성된 정수 중 양수는 'pos_result'리스트에 음수는 'neg_result'리스트에 저장\n",
    "# 0이 생성되면 종료\n",
    "import random\n",
    "a = 1; pos_result = []; neg_result = []\n",
    "while a:\n",
    "    a = random.randint(-100, 100)\n",
    "    if a > 0:\n",
    "        pos_result.append(a)\n",
    "    elif a < 0:\n",
    "        neg_result.append(a)\n",
    "print(pos_result, neg_result)"
   ]
  },
  {
   "cell_type": "code",
   "execution_count": null,
   "id": "2e9dd91f",
   "metadata": {},
   "outputs": [],
   "source": [
    "# := (왈러스 연산자 - 대입연산자) -if/while 조건절\n",
    "# 값을 변수에 대입하고 반환. 1. 값을 변수에 대입. 2. 대입한 값을 다시 반환.\n",
    "# while 반복마다 새로 변수를 만들어주어야 하는 경우 사용한다.\n",
    "while (num := random.randint(-100, 100)) != 0:\n",
    "    if num > 0:\n",
    "        pass\n",
    "    else:"
   ]
  },
  {
   "cell_type": "markdown",
   "id": "dc6099c5",
   "metadata": {
    "slideshow": {
     "slide_type": "slide"
    }
   },
   "source": [
    "## for in 문 연관 내장 함수\n",
    "\n",
    "### range()\n",
    "\n",
    "-   일정한 간격의 연속된 정수를 제공하는 반복가능 객체 생성한다.\n",
    "-   구문\n",
    "    -   `range([시작값], 멈춤값, [증감값])`\n",
    "        -   시작값, 멈춤값, 증감값 모두 정수만 가능하다.\n",
    "        -   시작값 > 멈춤값 이고 증감값이 음수이면 내림차순으로 값을 제공한다.\n",
    "        1. 전달값이 **1개: 멈춤값**.\n",
    "            - 0 ~ (멈춤값-1)까지 1씩 증가하는 정수를 제공\n",
    "        2. 전달값이 **2개: 시작값, 멈춤값**.\n",
    "            - 시작값 ~ (멈춤값-1) 까지 1씩 증가하는 정수 제공\n",
    "        3. 전달값이 **3개: 시작값, 멈춤값, 증감값(간격)**.\n",
    "            - 시작값 ~ (멈춤값-1)까지 증감값만큼 증가하는 정수를 제공.\n"
   ]
  },
  {
   "cell_type": "code",
   "execution_count": null,
   "id": "352d937b",
   "metadata": {
    "slideshow": {
     "slide_type": "fragment"
    }
   },
   "outputs": [
    {
     "name": "stdout",
     "output_type": "stream",
     "text": [
      "range(1, 11)\n"
     ]
    }
   ],
   "source": [
    "# range로 만들어진 range 객체도 자료형 변환이 가능하다 !\n",
    "l = list(range(1, 11))\n",
    "l2 = range(1, 11)\n",
    "print(l2)\n",
    "# range 자료형도 iterable이다 !!"
   ]
  },
  {
   "cell_type": "markdown",
   "id": "5de9d74e",
   "metadata": {
    "slideshow": {
     "slide_type": "subslide"
    }
   },
   "source": [
    "## enumerate()\n",
    "\n",
    "-   구문\n",
    "    -   `enumerate(Iterable,  [, start=정수])`\n",
    "        -   현재 몇번째 값을 제공하는 지(현재 몇번째 반복인지)를 나타내는 **index**와 제공하는 **원소**를 tuple로 묶어서 반환\n",
    "        -   Iterable\n",
    "            -   값을 제공할 Iterable객체\n",
    "        -   start: 정수\n",
    "            -   index 시작 값. 생략하면 0부터 시작한다.\n"
   ]
  },
  {
   "cell_type": "code",
   "execution_count": 9,
   "id": "33dd96c5",
   "metadata": {
    "slideshow": {
     "slide_type": "fragment"
    }
   },
   "outputs": [
    {
     "name": "stdout",
     "output_type": "stream",
     "text": [
      "(0, 10)\n",
      "(1, 11)\n",
      "(2, 12)\n",
      "(3, 13)\n",
      "(4, 14)\n",
      "19\n",
      "19\n",
      "19\n",
      "19\n",
      "19\n"
     ]
    }
   ],
   "source": [
    "l = list(range(10, 15))\n",
    "for v in enumerate(l):\n",
    "    print(v)\n",
    "for idx, value in enumerate(l):\n",
    "    print(b)"
   ]
  },
  {
   "cell_type": "code",
   "execution_count": 13,
   "id": "138efb88",
   "metadata": {},
   "outputs": [
    {
     "name": "stdout",
     "output_type": "stream",
     "text": [
      "1000번 째 중간결과 10999\n",
      "2000번 째 중간결과 11999\n",
      "3000번 째 중간결과 12999\n",
      "4000번 째 중간결과 13999\n",
      "5000번 째 중간결과 14999\n",
      "6000번 째 중간결과 15999\n",
      "7000번 째 중간결과 16999\n",
      "8000번 째 중간결과 17999\n",
      "9000번 째 중간결과 18999\n",
      "10000번 째 중간결과 19999\n"
     ]
    }
   ],
   "source": [
    "# 10_000번 반복 처리 -> 중간결과를 1_000번에 한 번씩 출력\n",
    "for idx, value in enumerate(range(10_000, 20_000), start = 1):\n",
    "    # 작업\n",
    "    if idx % 1000 == 0:\n",
    "        print(f'{idx}번 째 중간결과', value)"
   ]
  },
  {
   "cell_type": "code",
   "execution_count": 17,
   "id": "e20f2531",
   "metadata": {},
   "outputs": [
    {
     "ename": "ValueError",
     "evalue": "not enough values to unpack (expected 3, got 2)",
     "output_type": "error",
     "traceback": [
      "\u001b[1;31m---------------------------------------------------------------------------\u001b[0m",
      "\u001b[1;31mValueError\u001b[0m                                Traceback (most recent call last)",
      "Cell \u001b[1;32mIn[17], line 2\u001b[0m\n\u001b[0;32m      1\u001b[0m a \u001b[38;5;241m=\u001b[39m [[], [], []]\n\u001b[1;32m----> 2\u001b[0m \u001b[38;5;28;01mfor\u001b[39;00m i1, i2, i3 \u001b[38;5;129;01min\u001b[39;00m \u001b[38;5;28menumerate\u001b[39m(a):\n\u001b[0;32m      3\u001b[0m     \u001b[38;5;28;01mpass\u001b[39;00m\n",
      "\u001b[1;31mValueError\u001b[0m: not enough values to unpack (expected 3, got 2)"
     ]
    }
   ],
   "source": [
    "a = [[], [], []]\n",
    "for i1, i2, i3 in enumerate(a):\n",
    "    pass"
   ]
  },
  {
   "cell_type": "markdown",
   "id": "f5a5540f",
   "metadata": {
    "slideshow": {
     "slide_type": "subslide"
    }
   },
   "source": [
    "## zip()\n",
    "\n",
    "-   여러 개의 Iterable 객체를 받아 반복시 같은 index의 값끼리 튜플로 묶어 반환한다.\n",
    "-   구문\n",
    "    -   `zip(Iterable1, Iterable2, Iterable3 [, .......])`\n",
    "        -   Iterable 2개이상.전달한다.\n",
    "-   각 Iterable이 제공하는 원소의 개수가가 다를 경우 가장 적은 것의 개수에 맞춰 반복한다.\n"
   ]
  },
  {
   "cell_type": "code",
   "execution_count": 20,
   "id": "1b99057f",
   "metadata": {
    "slideshow": {
     "slide_type": "fragment"
    }
   },
   "outputs": [
    {
     "name": "stdout",
     "output_type": "stream",
     "text": [
      "('이순신', 30, '서울')\n",
      "('유관순', 40, '인천')\n",
      "('강감찬', 50, '부산')\n",
      "이순신 30 서울\n",
      "유관순 40 인천\n",
      "강감찬 50 부산\n"
     ]
    }
   ],
   "source": [
    "name_list = ['이순신', '유관순', '강감찬']\n",
    "age_list = [30, 40, 50]\n",
    "address_list = ['서울', '인천', '부산']\n",
    "# 같은 index가 같은 사람의 데이터.\n",
    "# 개별 사람의 데이터를 출력 (이순신, 30, 서울)\n",
    "for v in zip(name_list, age_list, address_list):\n",
    "    print(v)\n",
    "for name, age, list in zip(name_list, age_list, address_list):\n",
    "    print(name, age, list)"
   ]
  },
  {
   "cell_type": "markdown",
   "id": "2df89dae",
   "metadata": {
    "slideshow": {
     "slide_type": "subslide"
    }
   },
   "source": [
    "# 컴프리헨션(Comprehension)\n",
    "\n",
    "-   기존 Iterable의 원소들을 이용해서 새로운 자료구조(List, Dictionary, Set)를 생성하는 구문.\n",
    "    -   기존 Iterable의 **원소들을 처리한 결과**나 **특정 조건이 True인 값들을** 새로운 자료구조에 넣을때 사용.\n",
    "    -   결과를 넣을 새로운 자료구조 타입에 따라 다음 세가지가 있다.\n",
    "        -   리스트 컴프리헨션\n",
    "        -   딕셔너리 컴프리헨션\n",
    "        -   셋 컴프리헨션\n",
    "- **튜플 컴프리헨션**은 tuple() 함수를 이용해서 만든다.\n",
    "-   **딕셔너리 컴프리헨션**과 **셋 컴프리헨션**은 파이썬 3 에 새로 추가되었다.\n",
    "-   컴프리헨션 문법은 iterable 을 타입을 넣는 곳에서는 다 적용할 수있다.\n"
   ]
  },
  {
   "cell_type": "code",
   "execution_count": null,
   "id": "e04827d9",
   "metadata": {
    "slideshow": {
     "slide_type": "fragment"
    }
   },
   "outputs": [
    {
     "name": "stdout",
     "output_type": "stream",
     "text": [
      "[2, 4, 6]\n",
      "[2, 4, 6]\n"
     ]
    }
   ],
   "source": [
    "# Filtering\n",
    "l = [1, 2, 3, 4, 5, 6]\n",
    "result = []\n",
    "for v in l:\n",
    "    if v % 2 == 0:\n",
    "        result.append(v)\n",
    "print(result)\n"
   ]
  },
  {
   "cell_type": "code",
   "execution_count": 39,
   "id": "b3580caf",
   "metadata": {},
   "outputs": [
    {
     "name": "stdout",
     "output_type": "stream",
     "text": [
      "[500, 40]\n"
     ]
    }
   ],
   "source": [
    "# Filtering 을 Comprehension 으로 구현하기\n",
    "result = [i*10 for i in l if i%2 == 0]\n",
    "print(result)"
   ]
  },
  {
   "cell_type": "code",
   "execution_count": null,
   "id": "d800e103",
   "metadata": {},
   "outputs": [],
   "source": [
    "# Mapping\n",
    "result2 = []\n",
    "for v in l:\n",
    "    result2.append(v * 2)"
   ]
  },
  {
   "cell_type": "code",
   "execution_count": 28,
   "id": "99e88af4",
   "metadata": {},
   "outputs": [
    {
     "name": "stdout",
     "output_type": "stream",
     "text": [
      "[2, 4, 6, 8, 10, 12]\n",
      "{1: 2, 2: 4, 3: 6, 4: 8, 5: 10, 6: 12}\n",
      "{'value1': 2, 'value2': 4, 'value3': 6, 'value4': 8, 'value5': 10, 'value6': 12}\n"
     ]
    }
   ],
   "source": [
    "# Mapping을 Comprehension으로 구현하기\n",
    "result3 = [v*2 for v in l]\n",
    "print(result3)\n",
    "result4 = {v:v*2 for v in l}\n",
    "print(result4)\n",
    "result5 = {f'value{v}':v*2 for v in l}\n",
    "print(result5)"
   ]
  },
  {
   "cell_type": "code",
   "execution_count": null,
   "id": "8d57e4ff",
   "metadata": {},
   "outputs": [
    {
     "data": {
      "text/plain": [
       "<generator object <genexpr> at 0x00000186C5A579F0>"
      ]
     },
     "execution_count": 26,
     "metadata": {},
     "output_type": "execute_result"
    }
   ],
   "source": [
    "# Generator 생성\n",
    "(v*2 for v in l)"
   ]
  },
  {
   "cell_type": "code",
   "execution_count": 7,
   "id": "9ab66fd1",
   "metadata": {},
   "outputs": [
    {
     "name": "stdout",
     "output_type": "stream",
     "text": [
      "[5, 7, 3] [5, 7, 3]\n"
     ]
    }
   ],
   "source": [
    "l2 = [\n",
    "    [10, 5, 7],\n",
    "    [3, 50, 4]\n",
    "]\n",
    "# l2 원소 중 홀수만 저장해보자.\n",
    "result1 = []\n",
    "for l in l2:\n",
    "    for v in l:\n",
    "        if v % 2 != 0:\n",
    "            result1.append(v)\n",
    "result2 = [v for l in l2 for v in l if v%2 != 0] # for Comprehension 중첩\n",
    "print(result1, result2)"
   ]
  },
  {
   "cell_type": "markdown",
   "id": "092288d7",
   "metadata": {
    "slideshow": {
     "slide_type": "skip"
    }
   },
   "source": [
    "# TODO\n"
   ]
  },
  {
   "cell_type": "code",
   "execution_count": null,
   "id": "a0cc04fa",
   "metadata": {
    "slideshow": {
     "slide_type": "skip"
    }
   },
   "outputs": [
    {
     "ename": "SyntaxError",
     "evalue": "expected 'else' after 'if' expression (1549707952.py, line 3)",
     "output_type": "error",
     "traceback": [
      "\u001b[1;36m  Cell \u001b[1;32mIn[38], line 3\u001b[1;36m\u001b[0m\n\u001b[1;33m    \"사용할 수 있습니다\" if len(ID) >= 5\u001b[0m\n\u001b[1;37m    ^\u001b[0m\n\u001b[1;31mSyntaxError\u001b[0m\u001b[1;31m:\u001b[0m expected 'else' after 'if' expression\n"
     ]
    }
   ],
   "source": [
    "# (1) 사용자로 부터 ID를 입력 받은 뒤 입력받은 ID가 5글자 이상이면 \"사용할 수 있습니다.\"를 5글자 미만이면 \"사용할 수 없는 ID입니다.\"를 출력하세요.\n",
    "ID = input()\n",
    "\"사용할 수 있습니다\" if len(ID) >= 5 else \"사용할 수 없는 ID입니다.\"    "
   ]
  },
  {
   "cell_type": "code",
   "execution_count": null,
   "id": "86c109c5",
   "metadata": {},
   "outputs": [
    {
     "name": "stdout",
     "output_type": "stream",
     "text": [
      "특별시나 광역시가 아닙니다.\n"
     ]
    }
   ],
   "source": [
    "# (2) 사용자로부터 우리나라 도시명을 입력 받은 뒤 입력받은 도시명이 서울이면 \"특별시\"를 인천,부산,광주,대구,대전,울산 이면 \"광역시\"를 \n",
    "# 나머지는 \"특별시나 광역시가 아닙니다.\"를 출력하세요.\n",
    "Cont = input()\n",
    "a = ['인천', '부산', '광주', '대구', '대전', '울산']\n",
    "print(\"광역시\") if Cont in a else print(\"특별시나 광역시가 아닙니다.\")"
   ]
  },
  {
   "cell_type": "code",
   "execution_count": 4,
   "id": "18fbe1da",
   "metadata": {},
   "outputs": [
    {
     "data": {
      "text/plain": [
       "89.0"
      ]
     },
     "execution_count": 4,
     "metadata": {},
     "output_type": "execute_result"
    }
   ],
   "source": [
    "# (3-4)\n",
    "# (3) 아래 리스트의 평균을 구하시오.\n",
    "jumsu = [100, 90, 100, 80, 70, 100, 80, 90, 95, 85]\n",
    "sum(jumsu)/len(jumsu)"
   ]
  },
  {
   "cell_type": "code",
   "execution_count": 42,
   "id": "5a728951",
   "metadata": {},
   "outputs": [
    {
     "name": "stdout",
     "output_type": "stream",
     "text": [
      "1-pass\n",
      "2-pass\n",
      "3-pass\n",
      "6-pass\n",
      "7-pass\n",
      "8-pass\n",
      "9-pass\n",
      "['0-fail', '1-pass', '2-pass', '3-pass', '4-fail', '5-fail', '6-pass', '7-pass', '8-pass', '9-pass']\n"
     ]
    }
   ],
   "source": [
    "# (4) 위 jumsu리스트에서 평균점수이상은 pass, 미만은 fail을 index번호와 함께 출력하시오. (ex: 0-pass, 1-pass, 2-fail)\n",
    "for i, j in enumerate(jumsu):\n",
    "    print(f'{i}-pass') if j >= sum(jumsu)/len(jumsu) else f'{i}-fail'\n",
    "print([f'{i}-pass' if j >= sum(jumsu)/len(jumsu) else f'{i}-fail' for i, j in enumerate(jumsu)]) # Comprehension\n",
    "### Comprehension 은 for문을 활용하여 객체를 만들어주는, Generator와 같은 역할을 한다.\n",
    "### 따라서 Comprehension을 사용할 때에는 객체의 타입을 지정해주는 list, tuple, set을 사용해주어야 한다."
   ]
  },
  {
   "cell_type": "code",
   "execution_count": 12,
   "id": "76269342",
   "metadata": {},
   "outputs": [
    {
     "name": "stdout",
     "output_type": "stream",
     "text": [
      "95\n"
     ]
    }
   ],
   "source": [
    "# (5) 아래 리스트 값들 중 최대값을 조회해 출력하시오.\n",
    "jumsu = [60, 90, 80, 80, 70, 55, 80, 90, 95, 85]\n",
    "print(max(jumsu))\n"
   ]
  },
  {
   "cell_type": "code",
   "execution_count": 13,
   "id": "436cfb1c",
   "metadata": {},
   "outputs": [
    {
     "name": "stdout",
     "output_type": "stream",
     "text": [
      "num x 1 = 2\n",
      "num x 2 = 4\n",
      "num x 3 = 6\n",
      "num x 4 = 8\n",
      "num x 5 = 10\n",
      "num x 6 = 12\n",
      "num x 7 = 14\n",
      "num x 8 = 16\n",
      "num x 9 = 18\n"
     ]
    }
   ],
   "source": [
    "# (6) 사용자로부터 정수를 입력받아 그 정수 단의 구구단을 출력하시오.\n",
    "# ex)\n",
    "# 단을 입력하시오 : 2\n",
    "# 2 x 1 = 2\n",
    "# 2 x 2 = 4\n",
    "# ..\n",
    "# 2 x 9 = 18\n",
    "num = int(input())\n",
    "for i in range(1, 10):\n",
    "    print(f'num x {i} = {num*i}')"
   ]
  },
  {
   "cell_type": "code",
   "execution_count": 15,
   "id": "91314256",
   "metadata": {},
   "outputs": [
    {
     "name": "stdout",
     "output_type": "stream",
     "text": [
      "[(10, 100), (30, 300), (70, 700), (5, 50), (5, 50), (120, 1200), (700, 7000), (1, 10), (35, 350), (35, 350)]\n"
     ]
    }
   ],
   "source": [
    "# 컴프리헨션\n",
    "\n",
    "\n",
    "# (7) 다음 리스트의 원소들에 10배한 값을 (원래값, 10배값) 의 튜플 묶음으로 가지는 리스트를 만드시오 (리스트 컴프리헨션 이용)\n",
    "# Ex) [(10,100), (30,300), .., (35, 350)]\n",
    "lst = [10, 30, 70, 5, 5, 120, 700, 1, 35, 35]\n",
    "\n",
    "lst2 = [(i, i*10) for i in lst]\n",
    "print(lst2)"
   ]
  },
  {
   "cell_type": "code",
   "execution_count": 16,
   "id": "5379fefa",
   "metadata": {},
   "outputs": [
    {
     "name": "stdout",
     "output_type": "stream",
     "text": [
      "[3, 33, 21, 33, 60, 120]\n"
     ]
    }
   ],
   "source": [
    "# (8) 다음 리스트가 가진 값들 중 3의 배수만 가지는 리스트를 만드시오. (리스트 컴프리헨션 이용)\n",
    "lst2 = [3, 20, 33, 21, 33, 8, 11, 10, 7, 17, 60, 120, 2]\n",
    "lst3 = [i for i in lst2 if i%3 == 0]\n",
    "print(lst3)"
   ]
  },
  {
   "cell_type": "code",
   "execution_count": 18,
   "id": "f7ca72c2",
   "metadata": {},
   "outputs": [
    {
     "name": "stdout",
     "output_type": "stream",
     "text": [
      "['a.exe', 'function.exe', 'b.exe', 'run.exe']\n"
     ]
    }
   ],
   "source": [
    "# (9)) 다음 파일이름들을 담은 리스트에서 확장자가 exe인 파일만 골라서 새로운 리스트에 담으시오.(string의 endswith()함수 이용)\n",
    "file_names = [\n",
    "    \"test.txt\",\n",
    "    \"a.exe\",\n",
    "    \"jupyter.bat\",\n",
    "    \"function.exe\",\n",
    "    \"b.exe\",\n",
    "    \"cat.jpg\",\n",
    "    \"dog.png\",\n",
    "    \"run.exe\",\n",
    "    \"i.dll\",\n",
    "]\n",
    "\n",
    "lst = [i for i in file_names if i.endswith('.exe')]\n",
    "print(lst)"
   ]
  },
  {
   "cell_type": "code",
   "execution_count": 20,
   "id": "86c6a282",
   "metadata": {},
   "outputs": [
    {
     "name": "stdout",
     "output_type": "stream",
     "text": [
      "['mystroy.txt', 'jupyter.bat', 'function.exe']\n"
     ]
    }
   ],
   "source": [
    "# (10) 다음 중 10글자 이상인 파일명(확장자포함)만 가지는 리스트를 만드시오.\n",
    "file_names = [\n",
    "    \"mystroy.txt\",\n",
    "    \"a.exe\",\n",
    "    \"jupyter.bat\",\n",
    "    \"function.exe\",\n",
    "    \"b.exe\",\n",
    "    \"cat.jpg\",\n",
    "    \"dog.png\",\n",
    "    \"run.exe\",\n",
    "    \"i.dll\",\n",
    "]\n",
    "\n",
    "lst = [i for i in file_names if len(i) >= 10]\n",
    "print(lst)"
   ]
  },
  {
   "cell_type": "code",
   "execution_count": 25,
   "id": "4cb189e3",
   "metadata": {},
   "outputs": [
    {
     "ename": "SyntaxError",
     "evalue": "invalid syntax (3124540432.py, line 1)",
     "output_type": "error",
     "traceback": [
      "\u001b[1;36m  Cell \u001b[1;32mIn[25], line 1\u001b[1;36m\u001b[0m\n\u001b[1;33m    print(i) for i in range(10)\u001b[0m\n\u001b[1;37m             ^\u001b[0m\n\u001b[1;31mSyntaxError\u001b[0m\u001b[1;31m:\u001b[0m invalid syntax\n"
     ]
    }
   ],
   "source": [
    "print(i) for i in range(10)"
   ]
  },
  {
   "cell_type": "code",
   "execution_count": 32,
   "id": "445e671c",
   "metadata": {},
   "outputs": [
    {
     "name": "stdout",
     "output_type": "stream",
     "text": [
      "['0', '0', '0', '0', '0', '0', '1', '1', '1', '1']\n"
     ]
    }
   ],
   "source": [
    "print([\"1\" if i > 0 else \"0\" for i in range(-5, 5)])"
   ]
  },
  {
   "cell_type": "code",
   "execution_count": 35,
   "id": "fa1d1536",
   "metadata": {},
   "outputs": [
    {
     "name": "stdout",
     "output_type": "stream",
     "text": [
      "s\n"
     ]
    }
   ],
   "source": [
    "print('s') if True else print('f')"
   ]
  },
  {
   "cell_type": "code",
   "execution_count": null,
   "id": "9371763a",
   "metadata": {},
   "outputs": [],
   "source": []
  }
 ],
 "metadata": {
  "kernelspec": {
   "display_name": "base",
   "language": "python",
   "name": "python3"
  },
  "language_info": {
   "codemirror_mode": {
    "name": "ipython",
    "version": 3
   },
   "file_extension": ".py",
   "mimetype": "text/x-python",
   "name": "python",
   "nbconvert_exporter": "python",
   "pygments_lexer": "ipython3",
   "version": "3.12.7"
  },
  "toc": {
   "base_numbering": 1,
   "nav_menu": {},
   "number_sections": true,
   "sideBar": true,
   "skip_h1_title": false,
   "title_cell": "Table of Contents",
   "title_sidebar": "Contents",
   "toc_cell": false,
   "toc_position": {},
   "toc_section_display": true,
   "toc_window_display": false
  },
  "varInspector": {
   "cols": {
    "lenName": 16,
    "lenType": 16,
    "lenVar": 40
   },
   "kernels_config": {
    "python": {
     "delete_cmd_postfix": "",
     "delete_cmd_prefix": "del ",
     "library": "var_list.py",
     "varRefreshCmd": "print(var_dic_list())"
    },
    "r": {
     "delete_cmd_postfix": ") ",
     "delete_cmd_prefix": "rm(",
     "library": "var_list.r",
     "varRefreshCmd": "cat(var_dic_list()) "
    }
   },
   "types_to_exclude": [
    "module",
    "function",
    "builtin_function_or_method",
    "instance",
    "_Feature"
   ],
   "window_display": false
  }
 },
 "nbformat": 4,
 "nbformat_minor": 5
}
