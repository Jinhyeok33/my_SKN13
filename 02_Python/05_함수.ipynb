{
 "cells": [
  {
   "cell_type": "markdown",
   "metadata": {
    "slideshow": {
     "slide_type": "slide"
    }
   },
   "source": [
    "# 함수란\n",
    "\n",
    "-   함수란 **입력변수와 출력변수간의 대응 관계**를 정의한 것을 말한다.\n",
    "-   프로그램에서 함수란 하나의 작업, 기능, 동작을 처리하기 위한 사용자 정의 연산자라고 할 수 있다.\n",
    "    -   함수는 값을 **입력(Input)을** 받아서 **처리 후** 처리결과를 **출력(Output)하는** 일련의 과정을 정의한 것을 말한다.\n",
    "    -   만들어진 함수는 동일한 작업이 필요할 때 마다 재사용될 수 있다.\n",
    "    -   함수를 구현해 파이썬 실행환경에 등록하는 것을 **함수를 정의(define)한다** 라고 한다.\n",
    "    -   정의된 함수를 사용하는 것을 **함수를 호출(call)한다** 라고 한다.\n",
    "    -   파이썬에서 함수는 일급 시민 객체(First Class Citizen/First Class Object)이다.\n",
    "\n",
    "> -   **일급 시민 객체 란**  \n",
    ">      – **변수에 할당할 수 있고, 함수의 입력값으로 전달할 수 있고, 함수의 반환 값으로 반환할 수 있는 객체를 말한다.**\n",
    ">\n",
    "> -   일급시민객체는 일급시민 이란 말에서 유래된 용어이다.\n",
    ">          - 일급 시민이란 자유롭게 거주하며 일을 할 수 있고, 출입국의 자유를 가지며 투표의 자유를 가지는 시민을 의미한다.\n",
    ">          - 일급 시민 객체란 적용 가능한 연산을 모두 지원하는 객체를 뜻한다."
   ]
  },
  {
   "cell_type": "markdown",
   "metadata": {
    "slideshow": {
     "slide_type": "slide"
    }
   },
   "source": [
    "## 함수 정의\n",
    "\n",
    "-   새로운 함수를 만드는 것을 함수의 정의라고 한다.\n",
    "-   함수를 구현하고 그것을 **파이썬 실행환경에** 새로운 기능으로 **등록하는** 과정을 말한다.\n",
    "\n",
    "### 함수 구현\n",
    "\n",
    "-   함수의 선언부와 구현부로 나누어진다\n",
    "    -   함수의 선언부(Header) : 함수의 이름과 입력값을 받을 변수(Parameter, 매개변수)를 지정한다.\n",
    "    -   함수의 구현부(Body) : 함수가 호출 되었을 때 실행할 실행문들을 순서대로 작성한다.\n"
   ]
  },
  {
   "cell_type": "markdown",
   "metadata": {
    "slideshow": {
     "slide_type": "fragment"
    }
   },
   "source": [
    "```python\n",
    "def 함수이름( [변수, 변수, ..]):  # 선언 부(Header)\n",
    "    # 구현 부(body)\n",
    "    실행구문1\n",
    "    실행구문2\n",
    "    실행구문3\n",
    "    …\n",
    "    [return [결과값]]\n",
    "```\n",
    "\n",
    "- 필수가 아닌 부분의 경우 대괄호를 통해 관용적으로 표현한다.\n",
    "-   함수 선언 마지막에는 `:` 을 넣어 구현부와 구분한다.\n",
    "-   Parameter(매개변수)는 argument(호출하는 곳에서 전달하는 함수의 입력값)를 받기 위한 변수로 0개 이상 선언할 수 있다. \n",
    "-   함수의 실행구문은 코드블록으로 들여쓰기로 블록을 묶어준다.\n",
    "    -   들여쓰기는 보통 공백 4칸을 사용한다.\n",
    "-   함수의 처리 결과값이 있을 경우 **return 구문**을 넣고 없을 경우 return은 생략할 수 있다.\n",
    "-   **함수이름 관례**\n",
    "    -   함수이름은 보통 동사형으로 만든다.\n",
    "    -   Snake 표기법사용: 모두 소문자로 하고 여러단어로 구성할 경우 각 단어들을 `_`로 연결한다. (변수와 동일)\n"
   ]
  },
  {
   "cell_type": "code",
   "execution_count": 1,
   "metadata": {
    "slideshow": {
     "slide_type": "fragment"
    }
   },
   "outputs": [
    {
     "name": "stdout",
     "output_type": "stream",
     "text": [
      "안녕하세요.\n",
      "반갑습니다.\n"
     ]
    }
   ],
   "source": [
    "# 함수 정의\n",
    "## 파라미터(입력), 리턴값(출력) 모두 없는 함수\n",
    "def greet(): # 선언부(Header)\n",
    "    print(\"안녕하세요.\") # 구현부(Body)\n",
    "    print(\"반갑습니다.\")\n",
    "greet() # 호출"
   ]
  },
  {
   "cell_type": "code",
   "execution_count": null,
   "metadata": {
    "slideshow": {
     "slide_type": "fragment"
    }
   },
   "outputs": [
    {
     "name": "stdout",
     "output_type": "stream",
     "text": [
      "이순신님 안녕하세요.\n"
     ]
    }
   ],
   "source": [
    "# Parameter가 있는 함수\n",
    "def greet(name):\n",
    "    print(f'{name}님 안녕하세요.')\n",
    "greet('이순신')"
   ]
  },
  {
   "cell_type": "markdown",
   "metadata": {
    "slideshow": {
     "slide_type": "subslide"
    }
   },
   "source": [
    "## 함수 parameter와 return value\n",
    "\n",
    "-   **parameter:** 함수가 호출하는 곳으로 부터 입력받는 값을 저장하는 변수.\n",
    "    -   **arugument:**  호출할 때 파라미터에 전달 하는 값.\n",
    "-   **return value:** 함수의 처리결과로 호출하는 곳에 전달(반환)하는 값.\n",
    "\n",
    "### return value(반환값)\n",
    "\n",
    "-   함수가 호출받아 처리한 결과값으로 호출한 곳으로 반환하는 값이다.\n",
    "-   함수 구현부에 return \\[값\\] 구문을 사용해 반환한다.\n",
    "    -   **return**\n",
    "        -   함수가 정상적으로 끝났고 호출한곳으로 돌아간다.\n",
    "        -   보통은 함수 구현의 마지막에 넣지만 경우에 따라 중간에 올 수 있다.\n",
    "    -   return 반환값\n",
    "        -   호출한 곳으로 값을 가지고 돌아간다. (반환한다)\n",
    "        -   반환값이 없을 경우 None을 반환한다.\n",
    "        -   함수에 return 구문이 없을 경우 마지막에 return None이 실행된다.\n",
    "        - 따로 출력값이 없더라도 return None을 통해 끝났음을 알린다.\n",
    "-   여러개의 값을 return 하는 경우 자료구조로 묶어서 전달해야한다.\n",
    "    -   함수는 한개의 값만 반환할 수 있다.\n"
   ]
  },
  {
   "cell_type": "code",
   "execution_count": null,
   "metadata": {
    "slideshow": {
     "slide_type": "fragment"
    }
   },
   "outputs": [],
   "source": [
    "def greet3(name):\n",
    "    return f\"{name}님 환영합니다.\"\n",
    "greet3('홍길동')"
   ]
  },
  {
   "cell_type": "code",
   "execution_count": null,
   "metadata": {},
   "outputs": [
    {
     "name": "stdout",
     "output_type": "stream",
     "text": [
      "30 -10 200 0.5\n"
     ]
    }
   ],
   "source": [
    "def calculate(num1, num2):\n",
    "    r1 = num1 + num2\n",
    "    r2 = num1 - num2\n",
    "    r3 = num1 * num2\n",
    "    r4 = num1 / num2\n",
    "    # return [r1, r2, r3, r4]\n",
    "    # return r1, r2, r3, r4 # 튜플로 리턴 \n",
    "    return dict(sum=r1, sub=r2, mul=r3, div=r4) # 딕셔너리로 리턴\n",
    "a, b, c, d = calculate(10, 20)\n",
    "print(a, b, c, d)\n"
   ]
  },
  {
   "cell_type": "code",
   "execution_count": null,
   "metadata": {
    "slideshow": {
     "slide_type": "fragment"
    }
   },
   "outputs": [
    {
     "name": "stdout",
     "output_type": "stream",
     "text": [
      "0으로 나눌 수 없습니다.\n",
      "None\n"
     ]
    }
   ],
   "source": [
    "def divide(num1, num2):\n",
    "    if num2 == 0:\n",
    "        return \"0으로 나눌 수 없습니다.\"\n",
    "    return num1 / num2\n",
    "a = print(divide(10, 0))\n",
    "print(a) # print()함수는 리턴값이 없다. None"
   ]
  },
  {
   "cell_type": "markdown",
   "metadata": {
    "slideshow": {
     "slide_type": "slide"
    }
   },
   "source": [
    "## Parameter (매개변수)\n",
    "\n",
    "### 기본값이 있는 Parameter\n",
    "\n",
    "-   매개변수에 값을 대입하는 구문을 작성하면 호출할 때 argument 가 넘어오지 않으면 대입해놓은 기본값을 사용한다.\n",
    "-   함수 정의시 기본값 없는 매개변수, 있는 매개변수를 같이 선언할 수 있다.\n",
    "    -   **이때 기본값 없는 매개변수들을 선언하고 그 다음에 기본값 있는 매개변수들을 선언한다.**\n"
   ]
  },
  {
   "cell_type": "code",
   "execution_count": null,
   "metadata": {
    "slideshow": {
     "slide_type": "fragment"
    }
   },
   "outputs": [
    {
     "name": "stdout",
     "output_type": "stream",
     "text": [
      "이름: 홍길동\n",
      "이름: None\n"
     ]
    }
   ],
   "source": [
    "def print_info(name=None):\n",
    "    print(f'이름: {name}')\n",
    "print_info('홍길동')\n",
    "print_info() # None"
   ]
  },
  {
   "cell_type": "code",
   "execution_count": null,
   "metadata": {},
   "outputs": [],
   "source": [
    "# Default 값을 통해 변수를 선택적으로 넣을 수 있도록 하는 방법\n",
    "def print_info2(name=None):\n",
    "    if name:\n",
    "        print(f'이름: {name}')\n",
    "    else:\n",
    "        print('이름이 없습니다.')\n",
    "print_info2('홍길동')\n",
    "# Default 값이 가장 마지막으로 가야하는 이유? -> 함수의 나머지 변수들이 위치 변수로 사용되었기 때문에 순서대로 매칭된다 !"
   ]
  },
  {
   "cell_type": "code",
   "execution_count": 5,
   "metadata": {},
   "outputs": [
    {
     "name": "stdout",
     "output_type": "stream",
     "text": [
      "이름: 홍길동, 나이: 20, 주소: ?, 키: ?, 몸무게: ?\n"
     ]
    }
   ],
   "source": [
    "def print_info3(name, age='?', address='?', tall='?', weight='?'):\n",
    "    print(f'이름: {name}, 나이: {age}, 주소: {address}, 키: {tall}, 몸무게: {weight}')\n",
    "print_info3('홍길동', 20)"
   ]
  },
  {
   "cell_type": "markdown",
   "metadata": {
    "slideshow": {
     "slide_type": "subslide"
    }
   },
   "source": [
    "### Positional argument와 Keyword argument\n",
    "\n",
    "-   Argument는 함수/메소드를 호출할 때 전달하는 입력값을 말한다.\n",
    "    -   Argument는 전달하는 값이고 Parameter는 그 값을 저장하는 변수\n",
    "-   Positional argument\n",
    "    -   함수 호출 할때 argument(전달인자)를 Parameter 순서에 맞춰 값을 넣어서 호출.\n",
    "-   keyword argument\n",
    "    -   함수 호출할 때 argument를 `Parameter변수명 = 전달할값` 형식으로 선언해서 어떤 parameter에 어떤 값을 전달할 것인지 지정해서 호출.\n",
    "    -   순서와 상관없이 호출하는 것이 가능.\n",
    "    -   parameter가 많고 대부분 기본값이 있는 함수 호출 할 때 뒤 쪽에 선언된 parameter에만 값을 전달하고 싶을 경우 유용하다.\n"
   ]
  },
  {
   "cell_type": "code",
   "execution_count": null,
   "metadata": {
    "slideshow": {
     "slide_type": "fragment"
    }
   },
   "outputs": [],
   "source": [
    "# Parameter의 기본값을 위해 함수 선언부에 등호(=)를 사용하는 것과\n",
    "# Keyword Argument를 넣어주기 위해 호출부에 등호(=)를 사용하는 것은 다르다 !!\n",
    "# 평소에 둘 다 혼용으로 사용된다. 호출할 때 어떻게 하느냐에 따라 달라질 뿐."
   ]
  },
  {
   "cell_type": "markdown",
   "metadata": {
    "slideshow": {
     "slide_type": "subslide"
    }
   },
   "source": [
    "### 가변인자 (Var args, Variable length argument) 파라미터\n",
    "\n",
    "-   호출하는 쪽에서 argument로 0 ~ n개의 값을 나열해서 여러개의 값들을 전달하면 **tuple이나 dictionary로 묶어서** 받을 수있도록 선언하는 parameter\n",
    "    -   positial argument로 전달하는 것과 keyword argument로 전달되는 값을 받는 두가지 방식이 있다.\n",
    "-   **\\*변수명**: **positional argument**를 개수와 상관없이 하나의 변수로 받을 수 있도록 선언하는 가변인자.\n",
    "    -   전달된 값들은 tuple로 받아서 처리한다.\n",
    "    -   관례적으로 변수명은 \\*args 를 사용한다.\n",
    "-   **\\*\\*변수명**: **keyword argument**를 개수와 상관없이 하나의 변수로 받을 수 있도록 선언하는 가변인자.\n",
    "    -   전달된 값들은 dictionary로 받아서 처리한다.\n",
    "    -   관례적으로 변수명은 \\*\\*kwargs 를 사용한다.\n",
    "-   하나의 함수에 가변인자는 \\* 하나, \\*\\* 두개짜리 각각 한개씩만 선언할 수 있다.\n",
    "- 하나의 함수에 위치 가변 인자와 키워드 가변 인자를 하나씩만 선언 할 수있다.\n",
    "- 하나의 함수에 같이 선언할 경우 위치 가변인자, 키워드 가변인자 순서로 하나씩만 작성할 수 있다.\n",
    "- 일반 파라미트는 위치 가변인자 앞이나 뒤에 작성할 수있다. 만약 뒤에 작성한 경우 함수 호출시 일반파라미터는 keyword argument 방식으로 호출해야 한다.\n",
    "- 키워드 가변인자 뒤에는 일반 파라미터를 작성할 수 없다.\n",
    "-   파라미터 선언순서\n",
    "    1. 기본값이 없는 파라미터\n",
    "    2. 기본값이 있는 파라미터\n",
    "    3. `*args`\n",
    "    4. `**kwargs`\n"
   ]
  },
  {
   "cell_type": "code",
   "execution_count": 8,
   "metadata": {
    "slideshow": {
     "slide_type": "fragment"
    }
   },
   "outputs": [
    {
     "name": "stdout",
     "output_type": "stream",
     "text": [
      "<class 'tuple'> (1, 2, 3)\n",
      "<class 'dict'> {'name': '이순신', 'age': 30}\n"
     ]
    }
   ],
   "source": [
    "def test(*a, **b):\n",
    "    print(type(a), a)\n",
    "    print(type(b), b)\n",
    "\n",
    "test(1, 2, 3, name = '이순신', age = 30) # 튜플로 받는다.\n"
   ]
  },
  {
   "cell_type": "code",
   "execution_count": 12,
   "metadata": {},
   "outputs": [
    {
     "name": "stdout",
     "output_type": "stream",
     "text": [
      "28\n"
     ]
    }
   ],
   "source": [
    "# 숫자들의 합계를 계산하는 함수\n",
    "def my_sum(*nums):\n",
    "    result = sum(nums)\n",
    "    print(result)\n",
    "my_sum(1, 2, 3, 4, 5, 6, 7)"
   ]
  },
  {
   "cell_type": "markdown",
   "metadata": {
    "slideshow": {
     "slide_type": "slide"
    }
   },
   "source": [
    "# 변수의 유효범위\n",
    "\n",
    "-   **지역변수 (local variable)**\n",
    "    -   함수안에 선언된 변수\n",
    "    -   선언된 그 함수 안에서만 사용할 수 있다.\n",
    "-   **전역변수 (global variable)**\n",
    "    -   함수 밖에 선언 된 변수\n",
    "    -   모든 함수들이 공통적으로 사용할 수 있다.\n",
    "    -   하나의 함수에서 값을 변경하면 그 변한 값이 모든 함수에 영향을 주기 때문에 **함부로 변경하지 않는다.**\n",
    "    -   함수내에서 전역변수에 값을 대입하기 위해서는 global 키워드를 이용해 사용할 것을 미리 선언해야 한다.\n",
    "        -   global로 선언하지 않고 함수안에서 전역변수와 이름이 같은 변수에 값을 대입하면 그 변수와 동일한 지역변수을 생성한다.\n",
    "        - 따라서, 함수내에서 global 선언없이 전역변수의 값을 변경할 수는 없다.\n",
    "        -   조회할 경우에는 상관없다.\n",
    "            -   함수에서 변수를 조회할 경우 **먼저 지역변수를 찾고 없으면 전역변수를 찾는다.**\n"
   ]
  },
  {
   "cell_type": "code",
   "execution_count": 17,
   "metadata": {
    "slideshow": {
     "slide_type": "fragment"
    }
   },
   "outputs": [
    {
     "name": "stdout",
     "output_type": "stream",
     "text": [
      "10\n",
      "40\n",
      "10\n",
      "40\n",
      "[10, 40]\n"
     ]
    }
   ],
   "source": [
    "name = '홍길동'\n",
    "age = 30\n",
    "def test():\n",
    "    my_var = 10 # 지역 변수\n",
    "    print(my_var)\n",
    "    a = my_var + age\n",
    "    print(a)\n",
    "    return my_var, a\n",
    "test()\n",
    "b = list(test())\n",
    "print(b) # (10, 40)"
   ]
  },
  {
   "cell_type": "code",
   "execution_count": 29,
   "metadata": {},
   "outputs": [
    {
     "name": "stdout",
     "output_type": "stream",
     "text": [
      "100\n",
      "안녕하세요.\n",
      "안녕하세요.\n",
      "2020202\n",
      "True\n"
     ]
    }
   ],
   "source": [
    "### 전역변수를 함수내에서 사용할 경우, 지역변수 메모리를 찾아보고 이후 전역변수 메모리를 찾아보지만,\n",
    "### 전역변수를 함수내에서 변경할 경우, 지역변수 메모리를 찾아보고 없을 경우 등호(=)에 의해 새로 변수를 만들게 된다.\n",
    "# 메모리(RAM)상에서 전역변수와 지역변수는 서로 다른 공간에 저장되기 때문이다.\n",
    "# why? 지역변수들은 함수가 종료될 때 RAM상에서 사라지기 때문이다.\n",
    "g_var = 10\n",
    "def func():\n",
    "    local_var = 100\n",
    "    print(local_var)\n",
    "    global g_var # 앞으로 g_var라는 변수를 전역변수 메모리(RAM)상에서 찾아보겠다고 선언.\n",
    "    g_var = '안녕하세요.'\n",
    "    print(g_var)\n",
    "func()\n",
    "print(g_var)\n",
    "\n"
   ]
  },
  {
   "cell_type": "code",
   "execution_count": 30,
   "metadata": {
    "slideshow": {
     "slide_type": "fragment"
    }
   },
   "outputs": [
    {
     "name": "stdout",
     "output_type": "stream",
     "text": [
      "2020202\n",
      "True\n"
     ]
    }
   ],
   "source": [
    "### global 변수를 사용하는 것은 괜찮지만 주로 기준이 되는 변하지 않는 값만을 사용하자.\n",
    "# 함수내에서 전역변수를 변경하게 되면, 중간중간 해당 변수에 대한 값 판단이 어려워지게 된다. -> 오류 주범\n",
    "def func2():\n",
    "    # global g_var\n",
    "    g_var = 2020202\n",
    "    print(g_var)\n",
    "func2()\n",
    "\n",
    "def func3():\n",
    "    g_var = True\n",
    "    print(g_var)\n",
    "func3()"
   ]
  },
  {
   "cell_type": "markdown",
   "metadata": {
    "slideshow": {
     "slide_type": "slide"
    }
   },
   "source": [
    "# 함수는 일급시민(First class citizen) 이다.\n",
    "\n",
    "-   일급 시민\n",
    "    1. 변수에 대입 할 수 있다.\n",
    "    1. **Argument로 사용**할 수 있다.\n",
    "    1. 함수나 메소드의 반환값으로 사용 할 수 있다.\n",
    "-   즉 파이썬에서 함수는 일반 값(객체)으로 취급된다.\n"
   ]
  },
  {
   "cell_type": "code",
   "execution_count": 124,
   "metadata": {},
   "outputs": [
    {
     "name": "stdout",
     "output_type": "stream",
     "text": [
      "Hello World!\n"
     ]
    },
    {
     "data": {
      "text/plain": [
       "<function __main__.hello()>"
      ]
     },
     "execution_count": 124,
     "metadata": {},
     "output_type": "execute_result"
    }
   ],
   "source": [
    "### 함수나 클래스도 하나하나가 모두 객체이다.\n",
    "def hello():\n",
    "    print('Hello World!')\n",
    "hello() # 함수를 호출\n",
    "hello  # 함수 객체 자체를 호출\n",
    "my_hello = hello # hello()함수를 저장해놓은 RAM 자리가 있는데 여기의 주소가 hello 였고, 이를 가리키는 또 다른 주소가 my_hello 가 된 것이다.\n",
    "my_hello"
   ]
  },
  {
   "cell_type": "code",
   "execution_count": null,
   "metadata": {},
   "outputs": [],
   "source": [
    "# 함수는 변수 외에 다른 함수(방법) 도 input, output으로 가질 수 있다.\n",
    "def search(주제, 검색한다):\n",
    "    검색결과 = 검색한다(주제)\n",
    "    요약결과 = 요약한다(검색결과)\n",
    "    return 요약결과\n",
    "search('파이썬', 네이버검색함수)\n",
    "search('파이썬', 구글검색함수)"
   ]
  },
  {
   "cell_type": "code",
   "execution_count": 42,
   "metadata": {},
   "outputs": [],
   "source": [
    "# 단, 함수가 함수를 parameter로 받을 경우, 함수 구현부에서 사용되는 방식대로 작동하는 함수가\n",
    "# argument로 들어가야 한다.\n",
    "def calc(func):\n",
    "    result = func(10, 20)\n",
    "    return result\n",
    "def plus(num1, num2):\n",
    "    return num1 + num2\n",
    "# calc(plus, 10, 20)\n"
   ]
  },
  {
   "cell_type": "markdown",
   "metadata": {
    "slideshow": {
     "slide_type": "slide"
    }
   },
   "source": [
    "## 람다식/람다표현식 (Lambda Expression)\n",
    "\n",
    "-   함수를 표현식(expression)으로 정의한다.\n",
    "-   함수를 하나의 식을 이용해서 정의할때 사용하는 표현식(구문).\n",
    "-   값을 입력받아서 **간단한 처리한 결과**를 반환하는 간단한 함수를 표현식으로 정의할 수 있다.\n",
    "    -   처리결과를 return 하는 구문을 하나의 명령문으로 처리할 수 있을때 람다식을 사용할 수 있다.\n",
    "-   구문\n",
    "\n",
    "```python\n",
    "lambda 매개변수[, 매개변수, ...] : 명령문(구문)\n",
    "```\n",
    "\n",
    "-   명령문(구문)은 하나의 실행문만 가능하다.\n",
    "-   명령문(구문)이 처리한 결과를 리턴해준다.\n",
    "-   **람다식은 함수의 매개변수로 함수를 전달하는 일회성 함수를 만들때 주로 사용한다.**\n"
   ]
  },
  {
   "cell_type": "code",
   "execution_count": 43,
   "metadata": {},
   "outputs": [
    {
     "name": "stdout",
     "output_type": "stream",
     "text": [
      "20\n"
     ]
    }
   ],
   "source": [
    "lambda n1, n2: n1 + n2\n",
    "a = lambda x : x*2 # 이렇게 쓸 바에 함수를 새로 정의해\n",
    "print(a(10)) # 20"
   ]
  },
  {
   "cell_type": "code",
   "execution_count": 45,
   "metadata": {},
   "outputs": [
    {
     "name": "stdout",
     "output_type": "stream",
     "text": [
      "30\n"
     ]
    }
   ],
   "source": [
    "a = calc(lambda num1, num2 : num1 + num2)\n",
    "print(a)"
   ]
  },
  {
   "cell_type": "code",
   "execution_count": 48,
   "metadata": {},
   "outputs": [
    {
     "name": "stdout",
     "output_type": "stream",
     "text": [
      "[1, 3, 5]\n"
     ]
    }
   ],
   "source": [
    "a = list(map(lambda x : x[0], [[1, 2], [3, 4], [5, 6]]))\n",
    "print(a)\n"
   ]
  },
  {
   "cell_type": "markdown",
   "metadata": {},
   "source": [
    "# docstring\n",
    "\n",
    "-   함수에 대한 설명\n",
    "-   함수의 구현부의 첫번째에 여러줄 문자열(\"\"\" ~ \"\"\")로 작성한다."
   ]
  },
  {
   "cell_type": "code",
   "execution_count": null,
   "metadata": {
    "slideshow": {
     "slide_type": "fragment"
    }
   },
   "outputs": [],
   "source": [
    "def greet(name:str, age:int) -> str:\n",
    "    '''\n",
    "    나이와 이름을 입력받아 인사말을 출력하는 함수\n",
    "\n",
    "    Args: # Parameter에 대한 설명\n",
    "        name(str) : 인삿말에 들어갈 사람의 이름\n",
    "        age(int) : 인삿말에 들어갈 사람의 나이\n",
    "\n",
    "    Returns: # Return값에 대한 설명\n",
    "        str : 이름과 나이가 들어간 인삿말   (타입 : 설명 꼴)\n",
    "\n",
    "    Raises: # 이 함수에서 발생 가능한 Error, Exception에 대한 설명\n",
    "    '''\n",
    "    return f'안녕하세요. {age}세의 {name}님'"
   ]
  },
  {
   "cell_type": "code",
   "execution_count": 50,
   "metadata": {},
   "outputs": [
    {
     "name": "stdout",
     "output_type": "stream",
     "text": [
      "Help on function greet in module __main__:\n",
      "\n",
      "greet(name, age)\n",
      "    나이와 이름을 입력받아 인사말을 출력하는 함수\n",
      "\n",
      "    Args: # Parameter에 대한 설명\n",
      "        name(str) : 인삿말에 들어갈 사람의 이름\n",
      "        age(int) : 인삿말에 들어갈 사람의 나이\n",
      "\n",
      "    Returns: # Return값에 대한 설명\n",
      "        str : 이름과 나이가 들어간 인삿말   (타입 : 설명 꼴)\n",
      "\n",
      "    Raises: # 이 함수에서 발생 가능한 Error, Exception에 대한 설명\n",
      "\n"
     ]
    }
   ],
   "source": [
    "help(greet)"
   ]
  },
  {
   "cell_type": "markdown",
   "metadata": {
    "slideshow": {
     "slide_type": "skip"
    }
   },
   "source": [
    "# TODO\n"
   ]
  },
  {
   "cell_type": "code",
   "execution_count": 77,
   "metadata": {
    "slideshow": {
     "slide_type": "skip"
    }
   },
   "outputs": [
    {
     "data": {
      "text/plain": [
       "14"
      ]
     },
     "execution_count": 77,
     "metadata": {},
     "output_type": "execute_result"
    }
   ],
   "source": [
    "# 1. 시작 정수, 끝 정수를 받아 그 사이의 모든 정수의 합을 구해서 반환하는 함수를 구현(ex: 1, 20 => 1에서 20 사이의 모든 정수의 합계)\n",
    "start = int(input())\n",
    "end = int(input())\n",
    "def sum_all(start:int, end:int) -> int:\n",
    "    '''\n",
    "    시작 정수, 끝 정수를 받아 그 사이의 모든 정수의 합을 구해서 반환하는 함수\n",
    "    \n",
    "    Args:\n",
    "        start(int) - 시작 정수\n",
    "        end(int) - 끝 정수\n",
    "        \n",
    "    Returns:\n",
    "        int - start ~ end 까지의 모든 정수의 합\n",
    "    '''\n",
    "    return sum(range(start, end+1))\n",
    "sum_all(start, end)"
   ]
  },
  {
   "cell_type": "code",
   "execution_count": 92,
   "metadata": {},
   "outputs": [
    {
     "name": "stdout",
     "output_type": "stream",
     "text": [
      "Help on function sum_all in module __main__:\n",
      "\n",
      "sum_all(start: int, end: int) -> int\n",
      "    시작 정수, 끝 정수를 받아 그 사이의 모든 정수의 합을 구해서 반환하는 함수\n",
      "\n",
      "    Args:\n",
      "        start(int) : 시작 정수\n",
      "        end(int) : 끝 정수\n",
      "\n",
      "    Returns:\n",
      "        int : start ~ end 까지의 모든 정수의 합\n",
      "\n"
     ]
    }
   ],
   "source": [
    "help(sum_all)"
   ]
  },
  {
   "cell_type": "code",
   "execution_count": 80,
   "metadata": {},
   "outputs": [
    {
     "data": {
      "text/plain": [
       "210"
      ]
     },
     "execution_count": 80,
     "metadata": {},
     "output_type": "execute_result"
    }
   ],
   "source": [
    "# 2. 2번 문제에서 시작을 받지 않은 경우 0을, 끝 정수를 받지 않으면 10이 들어가도록 구현을 변경\n",
    "def sum_all2(start:int=0, end:int=10)->int:\n",
    "    return sum(range(start, end+1))\n",
    "### sum 함수는 iterable을 input으로 받아 !!! range, list, generator 등등 다 가능 !!!\n",
    "sum_all2(end=20)\n",
    "\n",
    "\n"
   ]
  },
  {
   "cell_type": "code",
   "execution_count": 76,
   "metadata": {},
   "outputs": [
    {
     "name": "stdout",
     "output_type": "stream",
     "text": [
      "8 * 1 = 8\n",
      "\n",
      "8 * 2 = 16\n",
      "\n",
      "8 * 3 = 24\n",
      "\n",
      "8 * 4 = 32\n",
      "\n",
      "8 * 5 = 40\n",
      "\n",
      "8 * 6 = 48\n",
      "\n",
      "8 * 7 = 56\n",
      "\n",
      "8 * 8 = 64\n",
      "\n",
      "8 * 9 = 72\n",
      "\n"
     ]
    },
    {
     "data": {
      "text/plain": [
       "\"\\nprint(f'{N} * {n} = {N*n}' for n in range(1, 10))\\n\""
      ]
     },
     "execution_count": 76,
     "metadata": {},
     "output_type": "execute_result"
    }
   ],
   "source": [
    "# 3. 구구단을 출력하는 함수를 구현한다. 입력으로 출력하고 싶은 단을 parameter로 입력받아서 `N * 1` ~ `N * 9` 를 출력한다. (N: 입력받은 단)\n",
    "def gugu(N)->None: # return 값이 없으면 None이 return 되지만 이러한 경우 별도로 적어주지는 않는다. \n",
    "    '''\n",
    "    print( i for i in [ f'{N} * {n} = {N*n}\\n' for n in range(1, 10) ]\n",
    "    이런 함수와 함께 쓰게 되면 i 조차 generator가 되어버려...\n",
    "    '''\n",
    "    a = [ f'{N} * {n} = {N*n}\\n' for n in range(1, 10) ]\n",
    "    for i in a:\n",
    "        print(i)\n",
    "gugu(int(input()))\n",
    "'''\n",
    "print(f'{N} * {n} = {N*n}' for n in range(1, 10))\n",
    "'''"
   ]
  },
  {
   "cell_type": "code",
   "execution_count": 67,
   "metadata": {},
   "outputs": [
    {
     "name": "stdout",
     "output_type": "stream",
     "text": [
      "['aadsfsdf', 'sadf', 'asdfasdf']\n"
     ]
    }
   ],
   "source": [
    "b = 'adsf'\n",
    "a = [f'a{b}sdf', f'sadf', 'asdfasdf'] # f string도 string 이라 iterable의 요소로 포함될 수 있어.\n",
    "print(a)"
   ]
  },
  {
   "cell_type": "code",
   "execution_count": 86,
   "metadata": {},
   "outputs": [
    {
     "name": "stdout",
     "output_type": "stream",
     "text": [
      "정상\n",
      "21.72\n"
     ]
    }
   ],
   "source": [
    "# 4. 체질량 지수는 비만도를 나타내는 지수로 키가 a미터 이고 몸무게가 b kg일때 b/(a**2) 로 구한다.\n",
    "# 체질량 지수가\n",
    "# - 18.5 미만이면 저체중\n",
    "# - 18.5이상 25미만이면 정상\n",
    "# - 25이상이면 과체중\n",
    "# - 30이상이면 비만으로 하는데\n",
    "# 몸무게와 키를 매개변수로 받아 비만인지 과체중인지 반환하는 함수를 구현하시오.\n",
    "def bmi(weight:float, height:float)->str:\n",
    "    '''\n",
    "    키와 몸무게를 입력받아 BMI 지수에 따른 비만도를 출력해주는 함수이다.\n",
    "    \n",
    "    Args:\n",
    "        weight - 몸무게, 단위는 kg\n",
    "        height - 키, 단위는 meter\n",
    "    Returns:\n",
    "        str - 비만도 계산 결과\n",
    "        '''\n",
    "    answer = weight/(height/100)**2\n",
    "    if answer >= 30:\n",
    "        print('비만')\n",
    "    elif answer >= 25:\n",
    "        print('과체중')\n",
    "    elif answer >= 18.5:\n",
    "        print('정상')\n",
    "    else: print('저체중')\n",
    "    print(round(answer, 2))\n",
    "weight = float(input('몸무게'))\n",
    "height = float(input('키'))\n",
    "bmi(weight, height)"
   ]
  },
  {
   "cell_type": "code",
   "execution_count": 85,
   "metadata": {},
   "outputs": [
    {
     "name": "stdout",
     "output_type": "stream",
     "text": [
      "Help on built-in function round in module builtins:\n",
      "\n",
      "round(number, ndigits=None)\n",
      "    Round a number to a given precision in decimal digits.\n",
      "\n",
      "    The return value is an integer if ndigits is omitted or None.  Otherwise\n",
      "    the return value has the same type as the number.  ndigits may be negative.\n",
      "\n"
     ]
    }
   ],
   "source": [
    "help(round)"
   ]
  },
  {
   "cell_type": "code",
   "execution_count": 87,
   "metadata": {},
   "outputs": [
    {
     "name": "stdout",
     "output_type": "stream",
     "text": [
      "Help on built-in function all in module builtins:\n",
      "\n",
      "all(iterable, /)\n",
      "    Return True if bool(x) is True for all values x in the iterable.\n",
      "\n",
      "    If the iterable is empty, return True.\n",
      "\n"
     ]
    }
   ],
   "source": [
    "help(all)"
   ]
  },
  {
   "cell_type": "code",
   "execution_count": 88,
   "metadata": {},
   "outputs": [
    {
     "name": "stdout",
     "output_type": "stream",
     "text": [
      "Help on built-in function sum in module builtins:\n",
      "\n",
      "sum(iterable, /, start=0)\n",
      "    Return the sum of a 'start' value (default: 0) plus an iterable of numbers\n",
      "\n",
      "    When the iterable is empty, return the start value.\n",
      "    This function is intended specifically for use with numeric values and may\n",
      "    reject non-numeric types.\n",
      "\n"
     ]
    }
   ],
   "source": [
    "help(sum)"
   ]
  },
  {
   "cell_type": "code",
   "execution_count": 95,
   "metadata": {},
   "outputs": [
    {
     "data": {
      "text/plain": [
       "['1234', 'Ad', 'aaaaaaa', 'adsfasdf', 'bbb', '아니야', '안녕']"
      ]
     },
     "execution_count": 95,
     "metadata": {},
     "output_type": "execute_result"
    }
   ],
   "source": [
    "lst = ['aaaaaaa', 'bbb', 'adsfasdf', '안녕', '1234', '아니야', 'Ad']\n",
    "sorted(lst)"
   ]
  },
  {
   "cell_type": "code",
   "execution_count": null,
   "metadata": {},
   "outputs": [],
   "source": [
    "# 문자열 정렬 순서(오름차순) - 유니코드 기준\n",
    "# 특수문자 - 숫자 - 알파벳 대문자 - 알파벳 소문자 - 한글"
   ]
  },
  {
   "cell_type": "code",
   "execution_count": 111,
   "metadata": {},
   "outputs": [
    {
     "data": {
      "text/plain": [
       "['안녕', 'Ad', 'bbb', '아니야', '1234', 'aaaaaaa', 'adsfasdf']"
      ]
     },
     "execution_count": 111,
     "metadata": {},
     "output_type": "execute_result"
    }
   ],
   "source": [
    "def check(word):\n",
    "    return len(word)\n",
    "sorted(lst, key=check)\n",
    "sorted(lst, key=len, reverse=True)\n",
    "sorted(lst, key=lambda x : len(x))\n",
    "### key function을 iterable의 각 요소에 적용시키고, 그렇게 나온 결과값을 가지고 정렬기준을 세움\n",
    "# 단, 저 위치에서 함수를 바로 작동시키는 것은 아니므로 괄호는 사용하지 않는다."
   ]
  },
  {
   "cell_type": "code",
   "execution_count": 110,
   "metadata": {},
   "outputs": [
    {
     "name": "stdout",
     "output_type": "stream",
     "text": [
      "Help on built-in function sorted in module builtins:\n",
      "\n",
      "sorted(iterable, /, *, key=None, reverse=False)\n",
      "    Return a new list containing all items from the iterable in ascending order.\n",
      "\n",
      "    A custom key function can be supplied to customize the sort order, and the\n",
      "    reverse flag can be set to request the result in descending order.\n",
      "\n",
      "Help on method_descriptor:\n",
      "\n",
      "sort(self, /, *, key=None, reverse=False) unbound builtins.list method\n",
      "    Sort the list in ascending order and return None.\n",
      "\n",
      "    The sort is in-place (i.e. the list itself is modified) and stable (i.e. the\n",
      "    order of two equal elements is maintained).\n",
      "\n",
      "    If a key function is given, apply it once to each list item and sort them,\n",
      "    ascending or descending, according to their function values.\n",
      "\n",
      "    The reverse flag can be set to sort in descending order.\n",
      "\n"
     ]
    }
   ],
   "source": [
    "help(sorted)\n",
    "help(list.sort)"
   ]
  },
  {
   "cell_type": "code",
   "execution_count": null,
   "metadata": {},
   "outputs": [],
   "source": []
  }
 ],
 "metadata": {
  "kernelspec": {
   "display_name": "base",
   "language": "python",
   "name": "python3"
  },
  "language_info": {
   "codemirror_mode": {
    "name": "ipython",
    "version": 3
   },
   "file_extension": ".py",
   "mimetype": "text/x-python",
   "name": "python",
   "nbconvert_exporter": "python",
   "pygments_lexer": "ipython3",
   "version": "3.12.7"
  },
  "toc": {
   "base_numbering": 1,
   "nav_menu": {},
   "number_sections": true,
   "sideBar": true,
   "skip_h1_title": false,
   "title_cell": "Table of Contents",
   "title_sidebar": "Contents",
   "toc_cell": false,
   "toc_position": {},
   "toc_section_display": true,
   "toc_window_display": false
  },
  "varInspector": {
   "cols": {
    "lenName": 16,
    "lenType": 16,
    "lenVar": 40
   },
   "kernels_config": {
    "python": {
     "delete_cmd_postfix": "",
     "delete_cmd_prefix": "del ",
     "library": "var_list.py",
     "varRefreshCmd": "print(var_dic_list())"
    },
    "r": {
     "delete_cmd_postfix": ") ",
     "delete_cmd_prefix": "rm(",
     "library": "var_list.r",
     "varRefreshCmd": "cat(var_dic_list()) "
    }
   },
   "types_to_exclude": [
    "module",
    "function",
    "builtin_function_or_method",
    "instance",
    "_Feature"
   ],
   "window_display": false
  }
 },
 "nbformat": 4,
 "nbformat_minor": 4
}
